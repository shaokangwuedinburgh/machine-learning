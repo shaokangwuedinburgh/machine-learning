{
 "cells": [
  {
   "cell_type": "markdown",
   "metadata": {},
   "source": [
    "This lab deals with exploratory data analysis. We will use the [landsat satellite](https://archive.ics.uci.edu/ml/datasets/Statlog+%28Landsat+Satellite%29) dataset, which is available in the lab repository."
   ]
  },
  {
   "cell_type": "markdown",
   "metadata": {},
   "source": [
    "# Preliminaries\n",
    "\n",
    "## Landsat satellite dataset\n",
    "\n",
    "The dataset consists of the four spectral values of pixels in $3 \\times 3$ neighbourhoods extracted from a larger satellite image, and the classification associated with the central pixel in each neighbourhood. Two of the four   spectral bands are in the visible region (corresponding approximately to green and red) and two are in the (near) infra-red. Each pixel is an 8-bit binary word, with 0 corresponding to black and 255 to white. The spatial resolution of a pixel is about 80m x 80m. \n",
    "\n",
    "**Number of attributes**\n",
    "36 (= 4 spectral bands x 9 pixels per neighbourhood )\n",
    "\n",
    "**Attributes**\n",
    "The attributes are numerical, in the range 0 to 255.\n",
    "\n",
    "**Classes**\n",
    "The classes are labeled from 1 to 9 as follows:\n",
    "\n",
    "1. red soil\n",
    "2. cotton crop\n",
    "3. grey soil\n",
    "4. damp grey soil\n",
    "5. soil with vegetation stubble\n",
    "6. mixture class (all types present)\n",
    "7. very damp grey soil\n",
    "\n",
    "*NB. There are no examples with class 6 in this dataset, hence it only actually six classes, i.e. 1,2,3,4,5 and 7.*\n",
    "\n",
    "\n",
    "**Number of examples**\n",
    "* training set:     4435\n",
    "* test set:         2000\n",
    "\n",
    "**Data format**\n",
    "In each row of the data set, the four spectral values for the top-left pixel are given first followed by the four spectral values for the top-middle pixel and then those for the top-right pixel, and so on with the pixels read out in sequence left-to-right and top-to-bottom. \n"
   ]
  },
  {
   "cell_type": "markdown",
   "metadata": {},
   "source": [
    "## Imports\n",
    "Execute the cell below to import the packages we will be using throughout this lab. "
   ]
  },
  {
   "cell_type": "code",
   "execution_count": 1,
   "metadata": {},
   "outputs": [],
   "source": [
    "# Import required packages \n",
    "import os\n",
    "import numpy as np \n",
    "import pandas as pd\n",
    "import matplotlib.pyplot as plt\n",
    "import seaborn as sns\n",
    "\n",
    "# for interactive figures, requires installation of ipympl\n",
    "#%matplotlib ipympl  \n",
    "\n",
    "# default\n",
    "%matplotlib inline"
   ]
  },
  {
   "cell_type": "markdown",
   "metadata": {},
   "source": [
    "# Pandas\n",
    "[Pandas](http://pandas.pydata.org) is a Python library for data manipulation and analysis. There are two fundamental data structures in pandas: the Series and DataFrame structures which are built on top of NumPy arrays. DataFrame structures are very similar to data frames used in the  R programming language.\n",
    "\n",
    "There are two complementary views of the DataFrame data structure. In the first view, we\n",
    "can consider DataFrames to be enhanced (typically two-dimensional) NumPy arrays, as illustrated in the following example."
   ]
  },
  {
   "cell_type": "code",
   "execution_count": 2,
   "metadata": {},
   "outputs": [
    {
     "data": {
      "text/plain": [
       "array([[11, 12, 13],\n",
       "       [21, 22, 23]])"
      ]
     },
     "execution_count": 2,
     "metadata": {},
     "output_type": "execute_result"
    }
   ],
   "source": [
    "data = np.array([[11, 12, 13], \n",
    "                 [21, 22, 23]])\n",
    "data"
   ]
  },
  {
   "cell_type": "code",
   "execution_count": 3,
   "metadata": {},
   "outputs": [
    {
     "data": {
      "text/html": [
       "<div>\n",
       "<style scoped>\n",
       "    .dataframe tbody tr th:only-of-type {\n",
       "        vertical-align: middle;\n",
       "    }\n",
       "\n",
       "    .dataframe tbody tr th {\n",
       "        vertical-align: top;\n",
       "    }\n",
       "\n",
       "    .dataframe thead th {\n",
       "        text-align: right;\n",
       "    }\n",
       "</style>\n",
       "<table border=\"1\" class=\"dataframe\">\n",
       "  <thead>\n",
       "    <tr style=\"text-align: right;\">\n",
       "      <th></th>\n",
       "      <th>col1</th>\n",
       "      <th>col2</th>\n",
       "      <th>col3</th>\n",
       "    </tr>\n",
       "  </thead>\n",
       "  <tbody>\n",
       "    <tr>\n",
       "      <th>row1</th>\n",
       "      <td>11</td>\n",
       "      <td>12</td>\n",
       "      <td>13</td>\n",
       "    </tr>\n",
       "    <tr>\n",
       "      <th>row2</th>\n",
       "      <td>21</td>\n",
       "      <td>22</td>\n",
       "      <td>23</td>\n",
       "    </tr>\n",
       "  </tbody>\n",
       "</table>\n",
       "</div>"
      ],
      "text/plain": [
       "      col1  col2  col3\n",
       "row1    11    12    13\n",
       "row2    21    22    23"
      ]
     },
     "execution_count": 3,
     "metadata": {},
     "output_type": "execute_result"
    }
   ],
   "source": [
    "df = pd.DataFrame(data, columns=['col1', 'col2', 'col3'], index=['row1', 'row2'])\n",
    "df"
   ]
  },
  {
   "cell_type": "markdown",
   "metadata": {},
   "source": [
    "The lists provided as `columns` and `index` keyword arguments label the columns and rows of the data structure. If they are omitted, the columns and rows are labelled with numbers starting from 0."
   ]
  },
  {
   "cell_type": "code",
   "execution_count": 4,
   "metadata": {},
   "outputs": [
    {
     "data": {
      "text/html": [
       "<div>\n",
       "<style scoped>\n",
       "    .dataframe tbody tr th:only-of-type {\n",
       "        vertical-align: middle;\n",
       "    }\n",
       "\n",
       "    .dataframe tbody tr th {\n",
       "        vertical-align: top;\n",
       "    }\n",
       "\n",
       "    .dataframe thead th {\n",
       "        text-align: right;\n",
       "    }\n",
       "</style>\n",
       "<table border=\"1\" class=\"dataframe\">\n",
       "  <thead>\n",
       "    <tr style=\"text-align: right;\">\n",
       "      <th></th>\n",
       "      <th>0</th>\n",
       "      <th>1</th>\n",
       "      <th>2</th>\n",
       "    </tr>\n",
       "  </thead>\n",
       "  <tbody>\n",
       "    <tr>\n",
       "      <th>0</th>\n",
       "      <td>11</td>\n",
       "      <td>12</td>\n",
       "      <td>13</td>\n",
       "    </tr>\n",
       "    <tr>\n",
       "      <th>1</th>\n",
       "      <td>21</td>\n",
       "      <td>22</td>\n",
       "      <td>23</td>\n",
       "    </tr>\n",
       "  </tbody>\n",
       "</table>\n",
       "</div>"
      ],
      "text/plain": [
       "    0   1   2\n",
       "0  11  12  13\n",
       "1  21  22  23"
      ]
     },
     "execution_count": 4,
     "metadata": {},
     "output_type": "execute_result"
    }
   ],
   "source": [
    "df2 = pd.DataFrame(data)\n",
    "df2"
   ]
  },
  {
   "cell_type": "markdown",
   "metadata": {},
   "source": [
    "In the second view, we can think that a DataFrame is collection of Python dictionaries, with the column headers corresponding to the dictionary keys. We can, for example, access `col2` via"
   ]
  },
  {
   "cell_type": "code",
   "execution_count": 5,
   "metadata": {},
   "outputs": [
    {
     "name": "stdout",
     "output_type": "stream",
     "text": [
      "row1    12\n",
      "row2    22\n",
      "Name: col2, dtype: int64\n",
      " \n",
      "row1    12\n",
      "row2    22\n",
      "Name: col2, dtype: int64\n"
     ]
    }
   ],
   "source": [
    "# dictionary-style indexing\n",
    "print(df['col2'], end='\\n \\n')\n",
    "\n",
    "# attribute-style variant if the column names are strings\n",
    "print(df.col2)  "
   ]
  },
  {
   "cell_type": "markdown",
   "metadata": {},
   "source": [
    "For the dataframe `df2` with the default labels, we would use the column _numbers_. Note that the attribute-style access is then not possible."
   ]
  },
  {
   "cell_type": "code",
   "execution_count": 6,
   "metadata": {},
   "outputs": [
    {
     "name": "stdout",
     "output_type": "stream",
     "text": [
      "0    12\n",
      "1    22\n",
      "Name: 1, dtype: int64\n"
     ]
    }
   ],
   "source": [
    "# dictionary-style indexing\n",
    "print(df2[1])"
   ]
  },
  {
   "cell_type": "markdown",
   "metadata": {},
   "source": [
    "We can also retrieve a view for multiple columns at the same time"
   ]
  },
  {
   "cell_type": "code",
   "execution_count": 34,
   "metadata": {},
   "outputs": [
    {
     "ename": "KeyError",
     "evalue": "1",
     "output_type": "error",
     "traceback": [
      "\u001b[0;31m---------------------------------------------------------------------------\u001b[0m",
      "\u001b[0;31mKeyError\u001b[0m                                  Traceback (most recent call last)",
      "\u001b[0;32m~/anaconda3/lib/python3.7/site-packages/pandas/core/indexes/base.py\u001b[0m in \u001b[0;36mget_loc\u001b[0;34m(self, key, method, tolerance)\u001b[0m\n\u001b[1;32m   3077\u001b[0m             \u001b[0;32mtry\u001b[0m\u001b[0;34m:\u001b[0m\u001b[0;34m\u001b[0m\u001b[0;34m\u001b[0m\u001b[0m\n\u001b[0;32m-> 3078\u001b[0;31m                 \u001b[0;32mreturn\u001b[0m \u001b[0mself\u001b[0m\u001b[0;34m.\u001b[0m\u001b[0m_engine\u001b[0m\u001b[0;34m.\u001b[0m\u001b[0mget_loc\u001b[0m\u001b[0;34m(\u001b[0m\u001b[0mkey\u001b[0m\u001b[0;34m)\u001b[0m\u001b[0;34m\u001b[0m\u001b[0;34m\u001b[0m\u001b[0m\n\u001b[0m\u001b[1;32m   3079\u001b[0m             \u001b[0;32mexcept\u001b[0m \u001b[0mKeyError\u001b[0m\u001b[0;34m:\u001b[0m\u001b[0;34m\u001b[0m\u001b[0;34m\u001b[0m\u001b[0m\n",
      "\u001b[0;32mpandas/_libs/index.pyx\u001b[0m in \u001b[0;36mpandas._libs.index.IndexEngine.get_loc\u001b[0;34m()\u001b[0m\n",
      "\u001b[0;32mpandas/_libs/index.pyx\u001b[0m in \u001b[0;36mpandas._libs.index.IndexEngine.get_loc\u001b[0;34m()\u001b[0m\n",
      "\u001b[0;32mpandas/_libs/hashtable_class_helper.pxi\u001b[0m in \u001b[0;36mpandas._libs.hashtable.PyObjectHashTable.get_item\u001b[0;34m()\u001b[0m\n",
      "\u001b[0;32mpandas/_libs/hashtable_class_helper.pxi\u001b[0m in \u001b[0;36mpandas._libs.hashtable.PyObjectHashTable.get_item\u001b[0;34m()\u001b[0m\n",
      "\u001b[0;31mKeyError\u001b[0m: 1",
      "\nDuring handling of the above exception, another exception occurred:\n",
      "\u001b[0;31mKeyError\u001b[0m                                  Traceback (most recent call last)",
      "\u001b[0;32m<ipython-input-34-6dee0a733502>\u001b[0m in \u001b[0;36m<module>\u001b[0;34m()\u001b[0m\n\u001b[1;32m      1\u001b[0m \u001b[0mcols_to_access\u001b[0m \u001b[0;34m=\u001b[0m \u001b[0;34m[\u001b[0m\u001b[0;34m'col1'\u001b[0m\u001b[0;34m,\u001b[0m \u001b[0;34m'col3'\u001b[0m\u001b[0;34m]\u001b[0m  \u001b[0;31m# list with header names\u001b[0m\u001b[0;34m\u001b[0m\u001b[0;34m\u001b[0m\u001b[0m\n\u001b[0;32m----> 2\u001b[0;31m \u001b[0mdf\u001b[0m\u001b[0;34m[\u001b[0m\u001b[0;36m1\u001b[0m\u001b[0;34m]\u001b[0m\u001b[0;34m\u001b[0m\u001b[0;34m\u001b[0m\u001b[0m\n\u001b[0m",
      "\u001b[0;32m~/anaconda3/lib/python3.7/site-packages/pandas/core/frame.py\u001b[0m in \u001b[0;36m__getitem__\u001b[0;34m(self, key)\u001b[0m\n\u001b[1;32m   2686\u001b[0m             \u001b[0;32mreturn\u001b[0m \u001b[0mself\u001b[0m\u001b[0;34m.\u001b[0m\u001b[0m_getitem_multilevel\u001b[0m\u001b[0;34m(\u001b[0m\u001b[0mkey\u001b[0m\u001b[0;34m)\u001b[0m\u001b[0;34m\u001b[0m\u001b[0;34m\u001b[0m\u001b[0m\n\u001b[1;32m   2687\u001b[0m         \u001b[0;32melse\u001b[0m\u001b[0;34m:\u001b[0m\u001b[0;34m\u001b[0m\u001b[0;34m\u001b[0m\u001b[0m\n\u001b[0;32m-> 2688\u001b[0;31m             \u001b[0;32mreturn\u001b[0m \u001b[0mself\u001b[0m\u001b[0;34m.\u001b[0m\u001b[0m_getitem_column\u001b[0m\u001b[0;34m(\u001b[0m\u001b[0mkey\u001b[0m\u001b[0;34m)\u001b[0m\u001b[0;34m\u001b[0m\u001b[0;34m\u001b[0m\u001b[0m\n\u001b[0m\u001b[1;32m   2689\u001b[0m \u001b[0;34m\u001b[0m\u001b[0m\n\u001b[1;32m   2690\u001b[0m     \u001b[0;32mdef\u001b[0m \u001b[0m_getitem_column\u001b[0m\u001b[0;34m(\u001b[0m\u001b[0mself\u001b[0m\u001b[0;34m,\u001b[0m \u001b[0mkey\u001b[0m\u001b[0;34m)\u001b[0m\u001b[0;34m:\u001b[0m\u001b[0;34m\u001b[0m\u001b[0;34m\u001b[0m\u001b[0m\n",
      "\u001b[0;32m~/anaconda3/lib/python3.7/site-packages/pandas/core/frame.py\u001b[0m in \u001b[0;36m_getitem_column\u001b[0;34m(self, key)\u001b[0m\n\u001b[1;32m   2693\u001b[0m         \u001b[0;31m# get column\u001b[0m\u001b[0;34m\u001b[0m\u001b[0;34m\u001b[0m\u001b[0;34m\u001b[0m\u001b[0m\n\u001b[1;32m   2694\u001b[0m         \u001b[0;32mif\u001b[0m \u001b[0mself\u001b[0m\u001b[0;34m.\u001b[0m\u001b[0mcolumns\u001b[0m\u001b[0;34m.\u001b[0m\u001b[0mis_unique\u001b[0m\u001b[0;34m:\u001b[0m\u001b[0;34m\u001b[0m\u001b[0;34m\u001b[0m\u001b[0m\n\u001b[0;32m-> 2695\u001b[0;31m             \u001b[0;32mreturn\u001b[0m \u001b[0mself\u001b[0m\u001b[0;34m.\u001b[0m\u001b[0m_get_item_cache\u001b[0m\u001b[0;34m(\u001b[0m\u001b[0mkey\u001b[0m\u001b[0;34m)\u001b[0m\u001b[0;34m\u001b[0m\u001b[0;34m\u001b[0m\u001b[0m\n\u001b[0m\u001b[1;32m   2696\u001b[0m \u001b[0;34m\u001b[0m\u001b[0m\n\u001b[1;32m   2697\u001b[0m         \u001b[0;31m# duplicate columns & possible reduce dimensionality\u001b[0m\u001b[0;34m\u001b[0m\u001b[0;34m\u001b[0m\u001b[0;34m\u001b[0m\u001b[0m\n",
      "\u001b[0;32m~/anaconda3/lib/python3.7/site-packages/pandas/core/generic.py\u001b[0m in \u001b[0;36m_get_item_cache\u001b[0;34m(self, item)\u001b[0m\n\u001b[1;32m   2487\u001b[0m         \u001b[0mres\u001b[0m \u001b[0;34m=\u001b[0m \u001b[0mcache\u001b[0m\u001b[0;34m.\u001b[0m\u001b[0mget\u001b[0m\u001b[0;34m(\u001b[0m\u001b[0mitem\u001b[0m\u001b[0;34m)\u001b[0m\u001b[0;34m\u001b[0m\u001b[0;34m\u001b[0m\u001b[0m\n\u001b[1;32m   2488\u001b[0m         \u001b[0;32mif\u001b[0m \u001b[0mres\u001b[0m \u001b[0;32mis\u001b[0m \u001b[0;32mNone\u001b[0m\u001b[0;34m:\u001b[0m\u001b[0;34m\u001b[0m\u001b[0;34m\u001b[0m\u001b[0m\n\u001b[0;32m-> 2489\u001b[0;31m             \u001b[0mvalues\u001b[0m \u001b[0;34m=\u001b[0m \u001b[0mself\u001b[0m\u001b[0;34m.\u001b[0m\u001b[0m_data\u001b[0m\u001b[0;34m.\u001b[0m\u001b[0mget\u001b[0m\u001b[0;34m(\u001b[0m\u001b[0mitem\u001b[0m\u001b[0;34m)\u001b[0m\u001b[0;34m\u001b[0m\u001b[0;34m\u001b[0m\u001b[0m\n\u001b[0m\u001b[1;32m   2490\u001b[0m             \u001b[0mres\u001b[0m \u001b[0;34m=\u001b[0m \u001b[0mself\u001b[0m\u001b[0;34m.\u001b[0m\u001b[0m_box_item_values\u001b[0m\u001b[0;34m(\u001b[0m\u001b[0mitem\u001b[0m\u001b[0;34m,\u001b[0m \u001b[0mvalues\u001b[0m\u001b[0;34m)\u001b[0m\u001b[0;34m\u001b[0m\u001b[0;34m\u001b[0m\u001b[0m\n\u001b[1;32m   2491\u001b[0m             \u001b[0mcache\u001b[0m\u001b[0;34m[\u001b[0m\u001b[0mitem\u001b[0m\u001b[0;34m]\u001b[0m \u001b[0;34m=\u001b[0m \u001b[0mres\u001b[0m\u001b[0;34m\u001b[0m\u001b[0;34m\u001b[0m\u001b[0m\n",
      "\u001b[0;32m~/anaconda3/lib/python3.7/site-packages/pandas/core/internals.py\u001b[0m in \u001b[0;36mget\u001b[0;34m(self, item, fastpath)\u001b[0m\n\u001b[1;32m   4113\u001b[0m \u001b[0;34m\u001b[0m\u001b[0m\n\u001b[1;32m   4114\u001b[0m             \u001b[0;32mif\u001b[0m \u001b[0;32mnot\u001b[0m \u001b[0misna\u001b[0m\u001b[0;34m(\u001b[0m\u001b[0mitem\u001b[0m\u001b[0;34m)\u001b[0m\u001b[0;34m:\u001b[0m\u001b[0;34m\u001b[0m\u001b[0;34m\u001b[0m\u001b[0m\n\u001b[0;32m-> 4115\u001b[0;31m                 \u001b[0mloc\u001b[0m \u001b[0;34m=\u001b[0m \u001b[0mself\u001b[0m\u001b[0;34m.\u001b[0m\u001b[0mitems\u001b[0m\u001b[0;34m.\u001b[0m\u001b[0mget_loc\u001b[0m\u001b[0;34m(\u001b[0m\u001b[0mitem\u001b[0m\u001b[0;34m)\u001b[0m\u001b[0;34m\u001b[0m\u001b[0;34m\u001b[0m\u001b[0m\n\u001b[0m\u001b[1;32m   4116\u001b[0m             \u001b[0;32melse\u001b[0m\u001b[0;34m:\u001b[0m\u001b[0;34m\u001b[0m\u001b[0;34m\u001b[0m\u001b[0m\n\u001b[1;32m   4117\u001b[0m                 \u001b[0mindexer\u001b[0m \u001b[0;34m=\u001b[0m \u001b[0mnp\u001b[0m\u001b[0;34m.\u001b[0m\u001b[0marange\u001b[0m\u001b[0;34m(\u001b[0m\u001b[0mlen\u001b[0m\u001b[0;34m(\u001b[0m\u001b[0mself\u001b[0m\u001b[0;34m.\u001b[0m\u001b[0mitems\u001b[0m\u001b[0;34m)\u001b[0m\u001b[0;34m)\u001b[0m\u001b[0;34m[\u001b[0m\u001b[0misna\u001b[0m\u001b[0;34m(\u001b[0m\u001b[0mself\u001b[0m\u001b[0;34m.\u001b[0m\u001b[0mitems\u001b[0m\u001b[0;34m)\u001b[0m\u001b[0;34m]\u001b[0m\u001b[0;34m\u001b[0m\u001b[0;34m\u001b[0m\u001b[0m\n",
      "\u001b[0;32m~/anaconda3/lib/python3.7/site-packages/pandas/core/indexes/base.py\u001b[0m in \u001b[0;36mget_loc\u001b[0;34m(self, key, method, tolerance)\u001b[0m\n\u001b[1;32m   3078\u001b[0m                 \u001b[0;32mreturn\u001b[0m \u001b[0mself\u001b[0m\u001b[0;34m.\u001b[0m\u001b[0m_engine\u001b[0m\u001b[0;34m.\u001b[0m\u001b[0mget_loc\u001b[0m\u001b[0;34m(\u001b[0m\u001b[0mkey\u001b[0m\u001b[0;34m)\u001b[0m\u001b[0;34m\u001b[0m\u001b[0;34m\u001b[0m\u001b[0m\n\u001b[1;32m   3079\u001b[0m             \u001b[0;32mexcept\u001b[0m \u001b[0mKeyError\u001b[0m\u001b[0;34m:\u001b[0m\u001b[0;34m\u001b[0m\u001b[0;34m\u001b[0m\u001b[0m\n\u001b[0;32m-> 3080\u001b[0;31m                 \u001b[0;32mreturn\u001b[0m \u001b[0mself\u001b[0m\u001b[0;34m.\u001b[0m\u001b[0m_engine\u001b[0m\u001b[0;34m.\u001b[0m\u001b[0mget_loc\u001b[0m\u001b[0;34m(\u001b[0m\u001b[0mself\u001b[0m\u001b[0;34m.\u001b[0m\u001b[0m_maybe_cast_indexer\u001b[0m\u001b[0;34m(\u001b[0m\u001b[0mkey\u001b[0m\u001b[0;34m)\u001b[0m\u001b[0;34m)\u001b[0m\u001b[0;34m\u001b[0m\u001b[0;34m\u001b[0m\u001b[0m\n\u001b[0m\u001b[1;32m   3081\u001b[0m \u001b[0;34m\u001b[0m\u001b[0m\n\u001b[1;32m   3082\u001b[0m         \u001b[0mindexer\u001b[0m \u001b[0;34m=\u001b[0m \u001b[0mself\u001b[0m\u001b[0;34m.\u001b[0m\u001b[0mget_indexer\u001b[0m\u001b[0;34m(\u001b[0m\u001b[0;34m[\u001b[0m\u001b[0mkey\u001b[0m\u001b[0;34m]\u001b[0m\u001b[0;34m,\u001b[0m \u001b[0mmethod\u001b[0m\u001b[0;34m=\u001b[0m\u001b[0mmethod\u001b[0m\u001b[0;34m,\u001b[0m \u001b[0mtolerance\u001b[0m\u001b[0;34m=\u001b[0m\u001b[0mtolerance\u001b[0m\u001b[0;34m)\u001b[0m\u001b[0;34m\u001b[0m\u001b[0;34m\u001b[0m\u001b[0m\n",
      "\u001b[0;32mpandas/_libs/index.pyx\u001b[0m in \u001b[0;36mpandas._libs.index.IndexEngine.get_loc\u001b[0;34m()\u001b[0m\n",
      "\u001b[0;32mpandas/_libs/index.pyx\u001b[0m in \u001b[0;36mpandas._libs.index.IndexEngine.get_loc\u001b[0;34m()\u001b[0m\n",
      "\u001b[0;32mpandas/_libs/hashtable_class_helper.pxi\u001b[0m in \u001b[0;36mpandas._libs.hashtable.PyObjectHashTable.get_item\u001b[0;34m()\u001b[0m\n",
      "\u001b[0;32mpandas/_libs/hashtable_class_helper.pxi\u001b[0m in \u001b[0;36mpandas._libs.hashtable.PyObjectHashTable.get_item\u001b[0;34m()\u001b[0m\n",
      "\u001b[0;31mKeyError\u001b[0m: 1"
     ]
    }
   ],
   "source": [
    "cols_to_access = ['col1', 'col3']  # list with header names\n",
    "df[1]"
   ]
  },
  {
   "cell_type": "code",
   "execution_count": 8,
   "metadata": {},
   "outputs": [
    {
     "data": {
      "text/html": [
       "<div>\n",
       "<style scoped>\n",
       "    .dataframe tbody tr th:only-of-type {\n",
       "        vertical-align: middle;\n",
       "    }\n",
       "\n",
       "    .dataframe tbody tr th {\n",
       "        vertical-align: top;\n",
       "    }\n",
       "\n",
       "    .dataframe thead th {\n",
       "        text-align: right;\n",
       "    }\n",
       "</style>\n",
       "<table border=\"1\" class=\"dataframe\">\n",
       "  <thead>\n",
       "    <tr style=\"text-align: right;\">\n",
       "      <th></th>\n",
       "      <th>0</th>\n",
       "      <th>2</th>\n",
       "    </tr>\n",
       "  </thead>\n",
       "  <tbody>\n",
       "    <tr>\n",
       "      <th>0</th>\n",
       "      <td>11</td>\n",
       "      <td>13</td>\n",
       "    </tr>\n",
       "    <tr>\n",
       "      <th>1</th>\n",
       "      <td>21</td>\n",
       "      <td>23</td>\n",
       "    </tr>\n",
       "  </tbody>\n",
       "</table>\n",
       "</div>"
      ],
      "text/plain": [
       "    0   2\n",
       "0  11  13\n",
       "1  21  23"
      ]
     },
     "execution_count": 8,
     "metadata": {},
     "output_type": "execute_result"
    }
   ],
   "source": [
    "cols_to_access = [0, 2]  # list with header names (as numbers not strings)\n",
    "df2[cols_to_access]"
   ]
  },
  {
   "cell_type": "markdown",
   "metadata": {},
   "source": [
    "We cover next basic features of the Pandas object. For a more detailed introduction to Pandas, see for example the corresponding [book chapter](https://jakevdp.github.io/PythonDataScienceHandbook/03.01-introducing-pandas-objects.html) of the _Python Data Science Handbook_ (optional reading) or the Pandas [user guide](https://pandas.pydata.org/pandas-docs/stable/user_guide) (for reference)."
   ]
  },
  {
   "cell_type": "markdown",
   "metadata": {},
   "source": [
    "## Viewing data\n",
    "Let's start by loading the  training and test datasets  into Pandas DataFrames."
   ]
  },
  {
   "cell_type": "code",
   "execution_count": 35,
   "metadata": {},
   "outputs": [],
   "source": [
    "# assumes that the training and test data has been stored under ./datasets/landsat/\n",
    "train_path = os.path.join(os.getcwd(), 'datasets', 'landsat', 'landsat_train.csv')\n",
    "test_path = os.path.join(os.getcwd(), 'datasets', 'landsat', 'landsat_test.csv')\n",
    "landsat_train = pd.read_csv(train_path, delimiter = ',')\n",
    "landsat_test = pd.read_csv(test_path, delimiter = ',')"
   ]
  },
  {
   "cell_type": "markdown",
   "metadata": {},
   "source": [
    "The loaded data sets are stored as DataFrames:"
   ]
  },
  {
   "cell_type": "code",
   "execution_count": 36,
   "metadata": {},
   "outputs": [
    {
     "name": "stdout",
     "output_type": "stream",
     "text": [
      "Type of the training data:  <class 'pandas.core.frame.DataFrame'>\n",
      "Type of the test data:  <class 'pandas.core.frame.DataFrame'>\n"
     ]
    }
   ],
   "source": [
    "print('Type of the training data: ', type(landsat_train))\n",
    "print('Type of the test data: ', type(landsat_test))"
   ]
  },
  {
   "cell_type": "markdown",
   "metadata": {},
   "source": [
    "We can use the `pandas` [`head()`](http://pandas.pydata.org/pandas-docs/stable/generated/pandas.DataFrame.head.html) method to inspect the  first  `n` entries in the DataFrame. Equivalently, we can use use the `pandas` [`tail()`](http://pandas.pydata.org/pandas-docs/stable/generated/pandas.DataFrame.tail.html) to see the last `n` entries. Note that the last column in the DataFrame, with header `label`, contains the label for each data point."
   ]
  },
  {
   "cell_type": "code",
   "execution_count": 41,
   "metadata": {},
   "outputs": [
    {
     "data": {
      "text/html": [
       "<div>\n",
       "<style scoped>\n",
       "    .dataframe tbody tr th:only-of-type {\n",
       "        vertical-align: middle;\n",
       "    }\n",
       "\n",
       "    .dataframe tbody tr th {\n",
       "        vertical-align: top;\n",
       "    }\n",
       "\n",
       "    .dataframe thead th {\n",
       "        text-align: right;\n",
       "    }\n",
       "</style>\n",
       "<table border=\"1\" class=\"dataframe\">\n",
       "  <thead>\n",
       "    <tr style=\"text-align: right;\">\n",
       "      <th></th>\n",
       "      <th>pixel_1_1</th>\n",
       "      <th>pixel_1_2</th>\n",
       "      <th>pixel_1_3</th>\n",
       "      <th>pixel_1_4</th>\n",
       "      <th>pixel_2_1</th>\n",
       "      <th>pixel_2_2</th>\n",
       "      <th>pixel_2_3</th>\n",
       "      <th>pixel_2_4</th>\n",
       "      <th>pixel_3_1</th>\n",
       "      <th>pixel_3_2</th>\n",
       "      <th>...</th>\n",
       "      <th>pixel_7_4</th>\n",
       "      <th>pixel_8_1</th>\n",
       "      <th>pixel_8_2</th>\n",
       "      <th>pixel_8_3</th>\n",
       "      <th>pixel_8_4</th>\n",
       "      <th>pixel_9_1</th>\n",
       "      <th>pixel_9_2</th>\n",
       "      <th>pixel_9_3</th>\n",
       "      <th>pixel_9_4</th>\n",
       "      <th>label</th>\n",
       "    </tr>\n",
       "  </thead>\n",
       "  <tbody>\n",
       "    <tr>\n",
       "      <th>count</th>\n",
       "      <td>4435.000000</td>\n",
       "      <td>4435.000000</td>\n",
       "      <td>4435.000000</td>\n",
       "      <td>4435.000000</td>\n",
       "      <td>4435.000000</td>\n",
       "      <td>4435.000000</td>\n",
       "      <td>4435.000000</td>\n",
       "      <td>4435.000000</td>\n",
       "      <td>4435.000000</td>\n",
       "      <td>4435.000000</td>\n",
       "      <td>...</td>\n",
       "      <td>4435.000000</td>\n",
       "      <td>4435.000000</td>\n",
       "      <td>4435.000000</td>\n",
       "      <td>4435.000000</td>\n",
       "      <td>4435.000000</td>\n",
       "      <td>4435.000000</td>\n",
       "      <td>4435.000000</td>\n",
       "      <td>4435.000000</td>\n",
       "      <td>4435.000000</td>\n",
       "      <td>4435.000000</td>\n",
       "    </tr>\n",
       "    <tr>\n",
       "      <th>mean</th>\n",
       "      <td>69.473957</td>\n",
       "      <td>83.855242</td>\n",
       "      <td>99.322886</td>\n",
       "      <td>82.555581</td>\n",
       "      <td>69.208794</td>\n",
       "      <td>83.499436</td>\n",
       "      <td>99.174521</td>\n",
       "      <td>82.480496</td>\n",
       "      <td>68.963472</td>\n",
       "      <td>83.131003</td>\n",
       "      <td>...</td>\n",
       "      <td>82.673957</td>\n",
       "      <td>69.033145</td>\n",
       "      <td>83.434273</td>\n",
       "      <td>99.183766</td>\n",
       "      <td>82.638106</td>\n",
       "      <td>68.797069</td>\n",
       "      <td>83.153326</td>\n",
       "      <td>99.061556</td>\n",
       "      <td>82.584442</td>\n",
       "      <td>3.650282</td>\n",
       "    </tr>\n",
       "    <tr>\n",
       "      <th>std</th>\n",
       "      <td>13.649635</td>\n",
       "      <td>22.725079</td>\n",
       "      <td>16.672166</td>\n",
       "      <td>18.695450</td>\n",
       "      <td>13.552423</td>\n",
       "      <td>22.811809</td>\n",
       "      <td>16.627583</td>\n",
       "      <td>18.714272</td>\n",
       "      <td>13.497858</td>\n",
       "      <td>22.813312</td>\n",
       "      <td>...</td>\n",
       "      <td>18.884322</td>\n",
       "      <td>13.533934</td>\n",
       "      <td>22.812090</td>\n",
       "      <td>16.741240</td>\n",
       "      <td>18.939820</td>\n",
       "      <td>13.437785</td>\n",
       "      <td>22.762684</td>\n",
       "      <td>16.660735</td>\n",
       "      <td>18.895513</td>\n",
       "      <td>2.217055</td>\n",
       "    </tr>\n",
       "    <tr>\n",
       "      <th>min</th>\n",
       "      <td>40.000000</td>\n",
       "      <td>27.000000</td>\n",
       "      <td>56.000000</td>\n",
       "      <td>33.000000</td>\n",
       "      <td>40.000000</td>\n",
       "      <td>27.000000</td>\n",
       "      <td>50.000000</td>\n",
       "      <td>29.000000</td>\n",
       "      <td>40.000000</td>\n",
       "      <td>27.000000</td>\n",
       "      <td>...</td>\n",
       "      <td>34.000000</td>\n",
       "      <td>39.000000</td>\n",
       "      <td>27.000000</td>\n",
       "      <td>50.000000</td>\n",
       "      <td>29.000000</td>\n",
       "      <td>40.000000</td>\n",
       "      <td>27.000000</td>\n",
       "      <td>50.000000</td>\n",
       "      <td>29.000000</td>\n",
       "      <td>1.000000</td>\n",
       "    </tr>\n",
       "    <tr>\n",
       "      <th>25%</th>\n",
       "      <td>60.000000</td>\n",
       "      <td>71.000000</td>\n",
       "      <td>85.000000</td>\n",
       "      <td>70.000000</td>\n",
       "      <td>60.000000</td>\n",
       "      <td>71.000000</td>\n",
       "      <td>85.000000</td>\n",
       "      <td>69.000000</td>\n",
       "      <td>60.000000</td>\n",
       "      <td>71.000000</td>\n",
       "      <td>...</td>\n",
       "      <td>70.000000</td>\n",
       "      <td>60.000000</td>\n",
       "      <td>71.000000</td>\n",
       "      <td>85.000000</td>\n",
       "      <td>69.000000</td>\n",
       "      <td>60.000000</td>\n",
       "      <td>71.000000</td>\n",
       "      <td>85.000000</td>\n",
       "      <td>69.000000</td>\n",
       "      <td>2.000000</td>\n",
       "    </tr>\n",
       "    <tr>\n",
       "      <th>50%</th>\n",
       "      <td>68.000000</td>\n",
       "      <td>87.000000</td>\n",
       "      <td>101.000000</td>\n",
       "      <td>83.000000</td>\n",
       "      <td>68.000000</td>\n",
       "      <td>85.000000</td>\n",
       "      <td>101.000000</td>\n",
       "      <td>81.000000</td>\n",
       "      <td>67.000000</td>\n",
       "      <td>85.000000</td>\n",
       "      <td>...</td>\n",
       "      <td>81.000000</td>\n",
       "      <td>68.000000</td>\n",
       "      <td>85.000000</td>\n",
       "      <td>101.000000</td>\n",
       "      <td>81.000000</td>\n",
       "      <td>67.000000</td>\n",
       "      <td>85.000000</td>\n",
       "      <td>100.000000</td>\n",
       "      <td>81.000000</td>\n",
       "      <td>3.000000</td>\n",
       "    </tr>\n",
       "    <tr>\n",
       "      <th>75%</th>\n",
       "      <td>80.000000</td>\n",
       "      <td>103.000000</td>\n",
       "      <td>113.000000</td>\n",
       "      <td>92.000000</td>\n",
       "      <td>80.000000</td>\n",
       "      <td>103.000000</td>\n",
       "      <td>113.000000</td>\n",
       "      <td>92.000000</td>\n",
       "      <td>79.000000</td>\n",
       "      <td>103.000000</td>\n",
       "      <td>...</td>\n",
       "      <td>92.000000</td>\n",
       "      <td>79.500000</td>\n",
       "      <td>103.000000</td>\n",
       "      <td>113.000000</td>\n",
       "      <td>92.000000</td>\n",
       "      <td>79.000000</td>\n",
       "      <td>103.000000</td>\n",
       "      <td>113.000000</td>\n",
       "      <td>92.000000</td>\n",
       "      <td>5.000000</td>\n",
       "    </tr>\n",
       "    <tr>\n",
       "      <th>max</th>\n",
       "      <td>104.000000</td>\n",
       "      <td>137.000000</td>\n",
       "      <td>140.000000</td>\n",
       "      <td>154.000000</td>\n",
       "      <td>102.000000</td>\n",
       "      <td>137.000000</td>\n",
       "      <td>145.000000</td>\n",
       "      <td>157.000000</td>\n",
       "      <td>104.000000</td>\n",
       "      <td>130.000000</td>\n",
       "      <td>...</td>\n",
       "      <td>154.000000</td>\n",
       "      <td>104.000000</td>\n",
       "      <td>128.000000</td>\n",
       "      <td>145.000000</td>\n",
       "      <td>157.000000</td>\n",
       "      <td>104.000000</td>\n",
       "      <td>130.000000</td>\n",
       "      <td>145.000000</td>\n",
       "      <td>157.000000</td>\n",
       "      <td>7.000000</td>\n",
       "    </tr>\n",
       "  </tbody>\n",
       "</table>\n",
       "<p>8 rows × 37 columns</p>\n",
       "</div>"
      ],
      "text/plain": [
       "         pixel_1_1    pixel_1_2    pixel_1_3    pixel_1_4    pixel_2_1  \\\n",
       "count  4435.000000  4435.000000  4435.000000  4435.000000  4435.000000   \n",
       "mean     69.473957    83.855242    99.322886    82.555581    69.208794   \n",
       "std      13.649635    22.725079    16.672166    18.695450    13.552423   \n",
       "min      40.000000    27.000000    56.000000    33.000000    40.000000   \n",
       "25%      60.000000    71.000000    85.000000    70.000000    60.000000   \n",
       "50%      68.000000    87.000000   101.000000    83.000000    68.000000   \n",
       "75%      80.000000   103.000000   113.000000    92.000000    80.000000   \n",
       "max     104.000000   137.000000   140.000000   154.000000   102.000000   \n",
       "\n",
       "         pixel_2_2    pixel_2_3    pixel_2_4    pixel_3_1    pixel_3_2  \\\n",
       "count  4435.000000  4435.000000  4435.000000  4435.000000  4435.000000   \n",
       "mean     83.499436    99.174521    82.480496    68.963472    83.131003   \n",
       "std      22.811809    16.627583    18.714272    13.497858    22.813312   \n",
       "min      27.000000    50.000000    29.000000    40.000000    27.000000   \n",
       "25%      71.000000    85.000000    69.000000    60.000000    71.000000   \n",
       "50%      85.000000   101.000000    81.000000    67.000000    85.000000   \n",
       "75%     103.000000   113.000000    92.000000    79.000000   103.000000   \n",
       "max     137.000000   145.000000   157.000000   104.000000   130.000000   \n",
       "\n",
       "          ...         pixel_7_4    pixel_8_1    pixel_8_2    pixel_8_3  \\\n",
       "count     ...       4435.000000  4435.000000  4435.000000  4435.000000   \n",
       "mean      ...         82.673957    69.033145    83.434273    99.183766   \n",
       "std       ...         18.884322    13.533934    22.812090    16.741240   \n",
       "min       ...         34.000000    39.000000    27.000000    50.000000   \n",
       "25%       ...         70.000000    60.000000    71.000000    85.000000   \n",
       "50%       ...         81.000000    68.000000    85.000000   101.000000   \n",
       "75%       ...         92.000000    79.500000   103.000000   113.000000   \n",
       "max       ...        154.000000   104.000000   128.000000   145.000000   \n",
       "\n",
       "         pixel_8_4    pixel_9_1    pixel_9_2    pixel_9_3    pixel_9_4  \\\n",
       "count  4435.000000  4435.000000  4435.000000  4435.000000  4435.000000   \n",
       "mean     82.638106    68.797069    83.153326    99.061556    82.584442   \n",
       "std      18.939820    13.437785    22.762684    16.660735    18.895513   \n",
       "min      29.000000    40.000000    27.000000    50.000000    29.000000   \n",
       "25%      69.000000    60.000000    71.000000    85.000000    69.000000   \n",
       "50%      81.000000    67.000000    85.000000   100.000000    81.000000   \n",
       "75%      92.000000    79.000000   103.000000   113.000000    92.000000   \n",
       "max     157.000000   104.000000   130.000000   145.000000   157.000000   \n",
       "\n",
       "             label  \n",
       "count  4435.000000  \n",
       "mean      3.650282  \n",
       "std       2.217055  \n",
       "min       1.000000  \n",
       "25%       2.000000  \n",
       "50%       3.000000  \n",
       "75%       5.000000  \n",
       "max       7.000000  \n",
       "\n",
       "[8 rows x 37 columns]"
      ]
     },
     "execution_count": 41,
     "metadata": {},
     "output_type": "execute_result"
    }
   ],
   "source": [
    "# Show first 5 instances of the training set\n",
    "landsat_train.describe(percentiles=None)"
   ]
  },
  {
   "cell_type": "code",
   "execution_count": 12,
   "metadata": {},
   "outputs": [
    {
     "data": {
      "text/html": [
       "<div>\n",
       "<style scoped>\n",
       "    .dataframe tbody tr th:only-of-type {\n",
       "        vertical-align: middle;\n",
       "    }\n",
       "\n",
       "    .dataframe tbody tr th {\n",
       "        vertical-align: top;\n",
       "    }\n",
       "\n",
       "    .dataframe thead th {\n",
       "        text-align: right;\n",
       "    }\n",
       "</style>\n",
       "<table border=\"1\" class=\"dataframe\">\n",
       "  <thead>\n",
       "    <tr style=\"text-align: right;\">\n",
       "      <th></th>\n",
       "      <th>pixel_1_1</th>\n",
       "      <th>pixel_1_2</th>\n",
       "      <th>pixel_1_3</th>\n",
       "      <th>pixel_1_4</th>\n",
       "      <th>pixel_2_1</th>\n",
       "      <th>pixel_2_2</th>\n",
       "      <th>pixel_2_3</th>\n",
       "      <th>pixel_2_4</th>\n",
       "      <th>pixel_3_1</th>\n",
       "      <th>pixel_3_2</th>\n",
       "      <th>...</th>\n",
       "      <th>pixel_7_4</th>\n",
       "      <th>pixel_8_1</th>\n",
       "      <th>pixel_8_2</th>\n",
       "      <th>pixel_8_3</th>\n",
       "      <th>pixel_8_4</th>\n",
       "      <th>pixel_9_1</th>\n",
       "      <th>pixel_9_2</th>\n",
       "      <th>pixel_9_3</th>\n",
       "      <th>pixel_9_4</th>\n",
       "      <th>label</th>\n",
       "    </tr>\n",
       "  </thead>\n",
       "  <tbody>\n",
       "    <tr>\n",
       "      <th>4430</th>\n",
       "      <td>56</td>\n",
       "      <td>64</td>\n",
       "      <td>108</td>\n",
       "      <td>96</td>\n",
       "      <td>64</td>\n",
       "      <td>71</td>\n",
       "      <td>108</td>\n",
       "      <td>96</td>\n",
       "      <td>68</td>\n",
       "      <td>75</td>\n",
       "      <td>...</td>\n",
       "      <td>92</td>\n",
       "      <td>66</td>\n",
       "      <td>83</td>\n",
       "      <td>108</td>\n",
       "      <td>96</td>\n",
       "      <td>66</td>\n",
       "      <td>87</td>\n",
       "      <td>104</td>\n",
       "      <td>89</td>\n",
       "      <td>5</td>\n",
       "    </tr>\n",
       "    <tr>\n",
       "      <th>4431</th>\n",
       "      <td>64</td>\n",
       "      <td>71</td>\n",
       "      <td>108</td>\n",
       "      <td>96</td>\n",
       "      <td>68</td>\n",
       "      <td>75</td>\n",
       "      <td>108</td>\n",
       "      <td>96</td>\n",
       "      <td>71</td>\n",
       "      <td>87</td>\n",
       "      <td>...</td>\n",
       "      <td>96</td>\n",
       "      <td>66</td>\n",
       "      <td>87</td>\n",
       "      <td>104</td>\n",
       "      <td>89</td>\n",
       "      <td>63</td>\n",
       "      <td>87</td>\n",
       "      <td>104</td>\n",
       "      <td>89</td>\n",
       "      <td>5</td>\n",
       "    </tr>\n",
       "    <tr>\n",
       "      <th>4432</th>\n",
       "      <td>68</td>\n",
       "      <td>75</td>\n",
       "      <td>108</td>\n",
       "      <td>96</td>\n",
       "      <td>71</td>\n",
       "      <td>87</td>\n",
       "      <td>108</td>\n",
       "      <td>88</td>\n",
       "      <td>71</td>\n",
       "      <td>91</td>\n",
       "      <td>...</td>\n",
       "      <td>89</td>\n",
       "      <td>63</td>\n",
       "      <td>87</td>\n",
       "      <td>104</td>\n",
       "      <td>89</td>\n",
       "      <td>70</td>\n",
       "      <td>100</td>\n",
       "      <td>104</td>\n",
       "      <td>85</td>\n",
       "      <td>4</td>\n",
       "    </tr>\n",
       "    <tr>\n",
       "      <th>4433</th>\n",
       "      <td>71</td>\n",
       "      <td>87</td>\n",
       "      <td>108</td>\n",
       "      <td>88</td>\n",
       "      <td>71</td>\n",
       "      <td>91</td>\n",
       "      <td>100</td>\n",
       "      <td>81</td>\n",
       "      <td>76</td>\n",
       "      <td>95</td>\n",
       "      <td>...</td>\n",
       "      <td>89</td>\n",
       "      <td>70</td>\n",
       "      <td>100</td>\n",
       "      <td>104</td>\n",
       "      <td>85</td>\n",
       "      <td>70</td>\n",
       "      <td>91</td>\n",
       "      <td>104</td>\n",
       "      <td>85</td>\n",
       "      <td>4</td>\n",
       "    </tr>\n",
       "    <tr>\n",
       "      <th>4434</th>\n",
       "      <td>71</td>\n",
       "      <td>91</td>\n",
       "      <td>100</td>\n",
       "      <td>81</td>\n",
       "      <td>76</td>\n",
       "      <td>95</td>\n",
       "      <td>108</td>\n",
       "      <td>88</td>\n",
       "      <td>80</td>\n",
       "      <td>95</td>\n",
       "      <td>...</td>\n",
       "      <td>85</td>\n",
       "      <td>70</td>\n",
       "      <td>91</td>\n",
       "      <td>104</td>\n",
       "      <td>85</td>\n",
       "      <td>63</td>\n",
       "      <td>91</td>\n",
       "      <td>100</td>\n",
       "      <td>81</td>\n",
       "      <td>4</td>\n",
       "    </tr>\n",
       "  </tbody>\n",
       "</table>\n",
       "<p>5 rows × 37 columns</p>\n",
       "</div>"
      ],
      "text/plain": [
       "      pixel_1_1  pixel_1_2  pixel_1_3  pixel_1_4  pixel_2_1  pixel_2_2  \\\n",
       "4430         56         64        108         96         64         71   \n",
       "4431         64         71        108         96         68         75   \n",
       "4432         68         75        108         96         71         87   \n",
       "4433         71         87        108         88         71         91   \n",
       "4434         71         91        100         81         76         95   \n",
       "\n",
       "      pixel_2_3  pixel_2_4  pixel_3_1  pixel_3_2  ...    pixel_7_4  pixel_8_1  \\\n",
       "4430        108         96         68         75  ...           92         66   \n",
       "4431        108         96         71         87  ...           96         66   \n",
       "4432        108         88         71         91  ...           89         63   \n",
       "4433        100         81         76         95  ...           89         70   \n",
       "4434        108         88         80         95  ...           85         70   \n",
       "\n",
       "      pixel_8_2  pixel_8_3  pixel_8_4  pixel_9_1  pixel_9_2  pixel_9_3  \\\n",
       "4430         83        108         96         66         87        104   \n",
       "4431         87        104         89         63         87        104   \n",
       "4432         87        104         89         70        100        104   \n",
       "4433        100        104         85         70         91        104   \n",
       "4434         91        104         85         63         91        100   \n",
       "\n",
       "      pixel_9_4  label  \n",
       "4430         89      5  \n",
       "4431         89      5  \n",
       "4432         85      4  \n",
       "4433         85      4  \n",
       "4434         81      4  \n",
       "\n",
       "[5 rows x 37 columns]"
      ]
     },
     "execution_count": 12,
     "metadata": {},
     "output_type": "execute_result"
    }
   ],
   "source": [
    "# Show last 5 instances of the training set\n",
    "landsat_train.tail(n=5)"
   ]
  },
  {
   "cell_type": "markdown",
   "metadata": {},
   "source": [
    "`pixel_i_k` here refers to pixel i in spectral band k, where the pixels are scanned row-wise with the top-left pixel of the $3 \\times 3$ neighbourhood coming first.\n",
    "\n",
    "Alternatively, we can use the `pandas` [`sample()`](http://pandas.pydata.org/pandas-docs/stable/generated/pandas.DataFrame.sample.html) method to inspect  `n` random entries in the DataFrame. We can set the `random_state` parameter to ensure reproducible results. "
   ]
  },
  {
   "cell_type": "markdown",
   "metadata": {},
   "source": [
    "##  Question 1\n",
    "Inspect 7 random entries in the test dataset. Set the `random_state` parameter to a number of your choice (i.e. `10`) to ensure reproducible results."
   ]
  },
  {
   "cell_type": "code",
   "execution_count": 13,
   "metadata": {},
   "outputs": [
    {
     "data": {
      "text/html": [
       "<div>\n",
       "<style scoped>\n",
       "    .dataframe tbody tr th:only-of-type {\n",
       "        vertical-align: middle;\n",
       "    }\n",
       "\n",
       "    .dataframe tbody tr th {\n",
       "        vertical-align: top;\n",
       "    }\n",
       "\n",
       "    .dataframe thead th {\n",
       "        text-align: right;\n",
       "    }\n",
       "</style>\n",
       "<table border=\"1\" class=\"dataframe\">\n",
       "  <thead>\n",
       "    <tr style=\"text-align: right;\">\n",
       "      <th></th>\n",
       "      <th>pixel_1_1</th>\n",
       "      <th>pixel_1_2</th>\n",
       "      <th>pixel_1_3</th>\n",
       "      <th>pixel_1_4</th>\n",
       "      <th>pixel_2_1</th>\n",
       "      <th>pixel_2_2</th>\n",
       "      <th>pixel_2_3</th>\n",
       "      <th>pixel_2_4</th>\n",
       "      <th>pixel_3_1</th>\n",
       "      <th>pixel_3_2</th>\n",
       "      <th>...</th>\n",
       "      <th>pixel_7_4</th>\n",
       "      <th>pixel_8_1</th>\n",
       "      <th>pixel_8_2</th>\n",
       "      <th>pixel_8_3</th>\n",
       "      <th>pixel_8_4</th>\n",
       "      <th>pixel_9_1</th>\n",
       "      <th>pixel_9_2</th>\n",
       "      <th>pixel_9_3</th>\n",
       "      <th>pixel_9_4</th>\n",
       "      <th>label</th>\n",
       "    </tr>\n",
       "  </thead>\n",
       "  <tbody>\n",
       "    <tr>\n",
       "      <th>115</th>\n",
       "      <td>46</td>\n",
       "      <td>34</td>\n",
       "      <td>119</td>\n",
       "      <td>131</td>\n",
       "      <td>52</td>\n",
       "      <td>48</td>\n",
       "      <td>110</td>\n",
       "      <td>105</td>\n",
       "      <td>71</td>\n",
       "      <td>77</td>\n",
       "      <td>...</td>\n",
       "      <td>135</td>\n",
       "      <td>41</td>\n",
       "      <td>31</td>\n",
       "      <td>131</td>\n",
       "      <td>139</td>\n",
       "      <td>44</td>\n",
       "      <td>40</td>\n",
       "      <td>120</td>\n",
       "      <td>120</td>\n",
       "      <td>2</td>\n",
       "    </tr>\n",
       "    <tr>\n",
       "      <th>1779</th>\n",
       "      <td>44</td>\n",
       "      <td>29</td>\n",
       "      <td>114</td>\n",
       "      <td>133</td>\n",
       "      <td>47</td>\n",
       "      <td>37</td>\n",
       "      <td>114</td>\n",
       "      <td>122</td>\n",
       "      <td>50</td>\n",
       "      <td>63</td>\n",
       "      <td>...</td>\n",
       "      <td>88</td>\n",
       "      <td>56</td>\n",
       "      <td>61</td>\n",
       "      <td>91</td>\n",
       "      <td>85</td>\n",
       "      <td>56</td>\n",
       "      <td>64</td>\n",
       "      <td>91</td>\n",
       "      <td>85</td>\n",
       "      <td>2</td>\n",
       "    </tr>\n",
       "    <tr>\n",
       "      <th>1449</th>\n",
       "      <td>66</td>\n",
       "      <td>109</td>\n",
       "      <td>122</td>\n",
       "      <td>100</td>\n",
       "      <td>66</td>\n",
       "      <td>109</td>\n",
       "      <td>122</td>\n",
       "      <td>100</td>\n",
       "      <td>66</td>\n",
       "      <td>109</td>\n",
       "      <td>...</td>\n",
       "      <td>90</td>\n",
       "      <td>67</td>\n",
       "      <td>102</td>\n",
       "      <td>114</td>\n",
       "      <td>94</td>\n",
       "      <td>67</td>\n",
       "      <td>102</td>\n",
       "      <td>114</td>\n",
       "      <td>90</td>\n",
       "      <td>1</td>\n",
       "    </tr>\n",
       "    <tr>\n",
       "      <th>145</th>\n",
       "      <td>89</td>\n",
       "      <td>111</td>\n",
       "      <td>110</td>\n",
       "      <td>87</td>\n",
       "      <td>89</td>\n",
       "      <td>106</td>\n",
       "      <td>110</td>\n",
       "      <td>87</td>\n",
       "      <td>89</td>\n",
       "      <td>106</td>\n",
       "      <td>...</td>\n",
       "      <td>88</td>\n",
       "      <td>88</td>\n",
       "      <td>107</td>\n",
       "      <td>108</td>\n",
       "      <td>88</td>\n",
       "      <td>88</td>\n",
       "      <td>107</td>\n",
       "      <td>113</td>\n",
       "      <td>92</td>\n",
       "      <td>3</td>\n",
       "    </tr>\n",
       "    <tr>\n",
       "      <th>1009</th>\n",
       "      <td>67</td>\n",
       "      <td>72</td>\n",
       "      <td>77</td>\n",
       "      <td>62</td>\n",
       "      <td>75</td>\n",
       "      <td>87</td>\n",
       "      <td>96</td>\n",
       "      <td>79</td>\n",
       "      <td>79</td>\n",
       "      <td>99</td>\n",
       "      <td>...</td>\n",
       "      <td>57</td>\n",
       "      <td>67</td>\n",
       "      <td>66</td>\n",
       "      <td>72</td>\n",
       "      <td>60</td>\n",
       "      <td>63</td>\n",
       "      <td>66</td>\n",
       "      <td>68</td>\n",
       "      <td>57</td>\n",
       "      <td>7</td>\n",
       "    </tr>\n",
       "    <tr>\n",
       "      <th>1840</th>\n",
       "      <td>84</td>\n",
       "      <td>99</td>\n",
       "      <td>104</td>\n",
       "      <td>79</td>\n",
       "      <td>84</td>\n",
       "      <td>99</td>\n",
       "      <td>104</td>\n",
       "      <td>79</td>\n",
       "      <td>88</td>\n",
       "      <td>99</td>\n",
       "      <td>...</td>\n",
       "      <td>90</td>\n",
       "      <td>92</td>\n",
       "      <td>103</td>\n",
       "      <td>110</td>\n",
       "      <td>86</td>\n",
       "      <td>87</td>\n",
       "      <td>103</td>\n",
       "      <td>110</td>\n",
       "      <td>83</td>\n",
       "      <td>3</td>\n",
       "    </tr>\n",
       "    <tr>\n",
       "      <th>579</th>\n",
       "      <td>82</td>\n",
       "      <td>96</td>\n",
       "      <td>100</td>\n",
       "      <td>78</td>\n",
       "      <td>82</td>\n",
       "      <td>96</td>\n",
       "      <td>96</td>\n",
       "      <td>78</td>\n",
       "      <td>82</td>\n",
       "      <td>96</td>\n",
       "      <td>...</td>\n",
       "      <td>80</td>\n",
       "      <td>85</td>\n",
       "      <td>97</td>\n",
       "      <td>101</td>\n",
       "      <td>80</td>\n",
       "      <td>85</td>\n",
       "      <td>97</td>\n",
       "      <td>105</td>\n",
       "      <td>80</td>\n",
       "      <td>4</td>\n",
       "    </tr>\n",
       "  </tbody>\n",
       "</table>\n",
       "<p>7 rows × 37 columns</p>\n",
       "</div>"
      ],
      "text/plain": [
       "      pixel_1_1  pixel_1_2  pixel_1_3  pixel_1_4  pixel_2_1  pixel_2_2  \\\n",
       "115          46         34        119        131         52         48   \n",
       "1779         44         29        114        133         47         37   \n",
       "1449         66        109        122        100         66        109   \n",
       "145          89        111        110         87         89        106   \n",
       "1009         67         72         77         62         75         87   \n",
       "1840         84         99        104         79         84         99   \n",
       "579          82         96        100         78         82         96   \n",
       "\n",
       "      pixel_2_3  pixel_2_4  pixel_3_1  pixel_3_2  ...    pixel_7_4  pixel_8_1  \\\n",
       "115         110        105         71         77  ...          135         41   \n",
       "1779        114        122         50         63  ...           88         56   \n",
       "1449        122        100         66        109  ...           90         67   \n",
       "145         110         87         89        106  ...           88         88   \n",
       "1009         96         79         79         99  ...           57         67   \n",
       "1840        104         79         88         99  ...           90         92   \n",
       "579          96         78         82         96  ...           80         85   \n",
       "\n",
       "      pixel_8_2  pixel_8_3  pixel_8_4  pixel_9_1  pixel_9_2  pixel_9_3  \\\n",
       "115          31        131        139         44         40        120   \n",
       "1779         61         91         85         56         64         91   \n",
       "1449        102        114         94         67        102        114   \n",
       "145         107        108         88         88        107        113   \n",
       "1009         66         72         60         63         66         68   \n",
       "1840        103        110         86         87        103        110   \n",
       "579          97        101         80         85         97        105   \n",
       "\n",
       "      pixel_9_4  label  \n",
       "115         120      2  \n",
       "1779         85      2  \n",
       "1449         90      1  \n",
       "145          92      3  \n",
       "1009         57      7  \n",
       "1840         83      3  \n",
       "579          80      4  \n",
       "\n",
       "[7 rows x 37 columns]"
      ]
     },
     "execution_count": 13,
     "metadata": {},
     "output_type": "execute_result"
    }
   ],
   "source": [
    "# Your code goes here\n",
    "landsat_test.sample(7, random_state=10)"
   ]
  },
  {
   "cell_type": "markdown",
   "metadata": {},
   "source": [
    "## Question 2\n",
    "\n",
    "The `pandas` [`info()`](http://pandas.pydata.org/pandas-docs/stable/generated/pandas.DataFrame.info.html) method provides basic information (i.e. number of rows/columns, variable data types) about a DataFrame.\n",
    "\n",
    "Display the basic information about the `landsat_train` dataframe. How many attributes/samples are there in the dataset?"
   ]
  },
  {
   "cell_type": "code",
   "execution_count": 14,
   "metadata": {},
   "outputs": [
    {
     "name": "stdout",
     "output_type": "stream",
     "text": [
      "<class 'pandas.core.frame.DataFrame'>\n",
      "RangeIndex: 4435 entries, 0 to 4434\n",
      "Data columns (total 37 columns):\n",
      "pixel_1_1    4435 non-null int64\n",
      "pixel_1_2    4435 non-null int64\n",
      "pixel_1_3    4435 non-null int64\n",
      "pixel_1_4    4435 non-null int64\n",
      "pixel_2_1    4435 non-null int64\n",
      "pixel_2_2    4435 non-null int64\n",
      "pixel_2_3    4435 non-null int64\n",
      "pixel_2_4    4435 non-null int64\n",
      "pixel_3_1    4435 non-null int64\n",
      "pixel_3_2    4435 non-null int64\n",
      "pixel_3_3    4435 non-null int64\n",
      "pixel_3_4    4435 non-null int64\n",
      "pixel_4_1    4435 non-null int64\n",
      "pixel_4_2    4435 non-null int64\n",
      "pixel_4_3    4435 non-null int64\n",
      "pixel_4_4    4435 non-null int64\n",
      "pixel_5_1    4435 non-null int64\n",
      "pixel_5_2    4435 non-null int64\n",
      "pixel_5_3    4435 non-null int64\n",
      "pixel_5_4    4435 non-null int64\n",
      "pixel_6_1    4435 non-null int64\n",
      "pixel_6_2    4435 non-null int64\n",
      "pixel_6_3    4435 non-null int64\n",
      "pixel_6_4    4435 non-null int64\n",
      "pixel_7_1    4435 non-null int64\n",
      "pixel_7_2    4435 non-null int64\n",
      "pixel_7_3    4435 non-null int64\n",
      "pixel_7_4    4435 non-null int64\n",
      "pixel_8_1    4435 non-null int64\n",
      "pixel_8_2    4435 non-null int64\n",
      "pixel_8_3    4435 non-null int64\n",
      "pixel_8_4    4435 non-null int64\n",
      "pixel_9_1    4435 non-null int64\n",
      "pixel_9_2    4435 non-null int64\n",
      "pixel_9_3    4435 non-null int64\n",
      "pixel_9_4    4435 non-null int64\n",
      "label        4435 non-null int64\n",
      "dtypes: int64(37)\n",
      "memory usage: 1.3 MB\n"
     ]
    }
   ],
   "source": [
    "# Your code goes here\n",
    "landsat_train.info()"
   ]
  },
  {
   "cell_type": "markdown",
   "metadata": {},
   "source": [
    "*Your answer goes here*\n",
    "\n",
    "There are  4435 entries and 37 columns in the  `landsat_train` dataframe."
   ]
  },
  {
   "cell_type": "markdown",
   "metadata": {},
   "source": [
    "Alternatively, we can use the `shape` attribute of a DataFrame to get the number of entries (i.e. rows/samples) and columns (i.e. attributes)."
   ]
  },
  {
   "cell_type": "code",
   "execution_count": 15,
   "metadata": {},
   "outputs": [
    {
     "name": "stdout",
     "output_type": "stream",
     "text": [
      "There are 4435 rows (observations) and 37 columns in the landsat_train DataFrame\n"
     ]
    }
   ],
   "source": [
    "print(\"There are {} rows (observations) and {} columns in the landsat_train DataFrame\"\\\n",
    "      .format(landsat_train.shape[0], landsat_train.shape[1]))"
   ]
  },
  {
   "cell_type": "markdown",
   "metadata": {},
   "source": [
    "Another very useful `pandas` method is [`describe()`](http://pandas.pydata.org/pandas-docs/stable/generated/pandas.DataFrame.describe.html) which  generates summary statistics about the columns in a DataFrame. "
   ]
  },
  {
   "cell_type": "code",
   "execution_count": 16,
   "metadata": {},
   "outputs": [
    {
     "data": {
      "text/html": [
       "<div>\n",
       "<style scoped>\n",
       "    .dataframe tbody tr th:only-of-type {\n",
       "        vertical-align: middle;\n",
       "    }\n",
       "\n",
       "    .dataframe tbody tr th {\n",
       "        vertical-align: top;\n",
       "    }\n",
       "\n",
       "    .dataframe thead th {\n",
       "        text-align: right;\n",
       "    }\n",
       "</style>\n",
       "<table border=\"1\" class=\"dataframe\">\n",
       "  <thead>\n",
       "    <tr style=\"text-align: right;\">\n",
       "      <th></th>\n",
       "      <th>pixel_1_1</th>\n",
       "      <th>pixel_1_2</th>\n",
       "      <th>pixel_1_3</th>\n",
       "      <th>pixel_1_4</th>\n",
       "      <th>pixel_2_1</th>\n",
       "      <th>pixel_2_2</th>\n",
       "      <th>pixel_2_3</th>\n",
       "      <th>pixel_2_4</th>\n",
       "      <th>pixel_3_1</th>\n",
       "      <th>pixel_3_2</th>\n",
       "      <th>...</th>\n",
       "      <th>pixel_7_4</th>\n",
       "      <th>pixel_8_1</th>\n",
       "      <th>pixel_8_2</th>\n",
       "      <th>pixel_8_3</th>\n",
       "      <th>pixel_8_4</th>\n",
       "      <th>pixel_9_1</th>\n",
       "      <th>pixel_9_2</th>\n",
       "      <th>pixel_9_3</th>\n",
       "      <th>pixel_9_4</th>\n",
       "      <th>label</th>\n",
       "    </tr>\n",
       "  </thead>\n",
       "  <tbody>\n",
       "    <tr>\n",
       "      <th>count</th>\n",
       "      <td>4435.000000</td>\n",
       "      <td>4435.000000</td>\n",
       "      <td>4435.000000</td>\n",
       "      <td>4435.000000</td>\n",
       "      <td>4435.000000</td>\n",
       "      <td>4435.000000</td>\n",
       "      <td>4435.000000</td>\n",
       "      <td>4435.000000</td>\n",
       "      <td>4435.000000</td>\n",
       "      <td>4435.000000</td>\n",
       "      <td>...</td>\n",
       "      <td>4435.000000</td>\n",
       "      <td>4435.000000</td>\n",
       "      <td>4435.000000</td>\n",
       "      <td>4435.000000</td>\n",
       "      <td>4435.000000</td>\n",
       "      <td>4435.000000</td>\n",
       "      <td>4435.000000</td>\n",
       "      <td>4435.000000</td>\n",
       "      <td>4435.000000</td>\n",
       "      <td>4435.000000</td>\n",
       "    </tr>\n",
       "    <tr>\n",
       "      <th>mean</th>\n",
       "      <td>69.473957</td>\n",
       "      <td>83.855242</td>\n",
       "      <td>99.322886</td>\n",
       "      <td>82.555581</td>\n",
       "      <td>69.208794</td>\n",
       "      <td>83.499436</td>\n",
       "      <td>99.174521</td>\n",
       "      <td>82.480496</td>\n",
       "      <td>68.963472</td>\n",
       "      <td>83.131003</td>\n",
       "      <td>...</td>\n",
       "      <td>82.673957</td>\n",
       "      <td>69.033145</td>\n",
       "      <td>83.434273</td>\n",
       "      <td>99.183766</td>\n",
       "      <td>82.638106</td>\n",
       "      <td>68.797069</td>\n",
       "      <td>83.153326</td>\n",
       "      <td>99.061556</td>\n",
       "      <td>82.584442</td>\n",
       "      <td>3.650282</td>\n",
       "    </tr>\n",
       "    <tr>\n",
       "      <th>std</th>\n",
       "      <td>13.649635</td>\n",
       "      <td>22.725079</td>\n",
       "      <td>16.672166</td>\n",
       "      <td>18.695450</td>\n",
       "      <td>13.552423</td>\n",
       "      <td>22.811809</td>\n",
       "      <td>16.627583</td>\n",
       "      <td>18.714272</td>\n",
       "      <td>13.497858</td>\n",
       "      <td>22.813312</td>\n",
       "      <td>...</td>\n",
       "      <td>18.884322</td>\n",
       "      <td>13.533934</td>\n",
       "      <td>22.812090</td>\n",
       "      <td>16.741240</td>\n",
       "      <td>18.939820</td>\n",
       "      <td>13.437785</td>\n",
       "      <td>22.762684</td>\n",
       "      <td>16.660735</td>\n",
       "      <td>18.895513</td>\n",
       "      <td>2.217055</td>\n",
       "    </tr>\n",
       "    <tr>\n",
       "      <th>min</th>\n",
       "      <td>40.000000</td>\n",
       "      <td>27.000000</td>\n",
       "      <td>56.000000</td>\n",
       "      <td>33.000000</td>\n",
       "      <td>40.000000</td>\n",
       "      <td>27.000000</td>\n",
       "      <td>50.000000</td>\n",
       "      <td>29.000000</td>\n",
       "      <td>40.000000</td>\n",
       "      <td>27.000000</td>\n",
       "      <td>...</td>\n",
       "      <td>34.000000</td>\n",
       "      <td>39.000000</td>\n",
       "      <td>27.000000</td>\n",
       "      <td>50.000000</td>\n",
       "      <td>29.000000</td>\n",
       "      <td>40.000000</td>\n",
       "      <td>27.000000</td>\n",
       "      <td>50.000000</td>\n",
       "      <td>29.000000</td>\n",
       "      <td>1.000000</td>\n",
       "    </tr>\n",
       "    <tr>\n",
       "      <th>25%</th>\n",
       "      <td>60.000000</td>\n",
       "      <td>71.000000</td>\n",
       "      <td>85.000000</td>\n",
       "      <td>70.000000</td>\n",
       "      <td>60.000000</td>\n",
       "      <td>71.000000</td>\n",
       "      <td>85.000000</td>\n",
       "      <td>69.000000</td>\n",
       "      <td>60.000000</td>\n",
       "      <td>71.000000</td>\n",
       "      <td>...</td>\n",
       "      <td>70.000000</td>\n",
       "      <td>60.000000</td>\n",
       "      <td>71.000000</td>\n",
       "      <td>85.000000</td>\n",
       "      <td>69.000000</td>\n",
       "      <td>60.000000</td>\n",
       "      <td>71.000000</td>\n",
       "      <td>85.000000</td>\n",
       "      <td>69.000000</td>\n",
       "      <td>2.000000</td>\n",
       "    </tr>\n",
       "    <tr>\n",
       "      <th>50%</th>\n",
       "      <td>68.000000</td>\n",
       "      <td>87.000000</td>\n",
       "      <td>101.000000</td>\n",
       "      <td>83.000000</td>\n",
       "      <td>68.000000</td>\n",
       "      <td>85.000000</td>\n",
       "      <td>101.000000</td>\n",
       "      <td>81.000000</td>\n",
       "      <td>67.000000</td>\n",
       "      <td>85.000000</td>\n",
       "      <td>...</td>\n",
       "      <td>81.000000</td>\n",
       "      <td>68.000000</td>\n",
       "      <td>85.000000</td>\n",
       "      <td>101.000000</td>\n",
       "      <td>81.000000</td>\n",
       "      <td>67.000000</td>\n",
       "      <td>85.000000</td>\n",
       "      <td>100.000000</td>\n",
       "      <td>81.000000</td>\n",
       "      <td>3.000000</td>\n",
       "    </tr>\n",
       "    <tr>\n",
       "      <th>75%</th>\n",
       "      <td>80.000000</td>\n",
       "      <td>103.000000</td>\n",
       "      <td>113.000000</td>\n",
       "      <td>92.000000</td>\n",
       "      <td>80.000000</td>\n",
       "      <td>103.000000</td>\n",
       "      <td>113.000000</td>\n",
       "      <td>92.000000</td>\n",
       "      <td>79.000000</td>\n",
       "      <td>103.000000</td>\n",
       "      <td>...</td>\n",
       "      <td>92.000000</td>\n",
       "      <td>79.500000</td>\n",
       "      <td>103.000000</td>\n",
       "      <td>113.000000</td>\n",
       "      <td>92.000000</td>\n",
       "      <td>79.000000</td>\n",
       "      <td>103.000000</td>\n",
       "      <td>113.000000</td>\n",
       "      <td>92.000000</td>\n",
       "      <td>5.000000</td>\n",
       "    </tr>\n",
       "    <tr>\n",
       "      <th>max</th>\n",
       "      <td>104.000000</td>\n",
       "      <td>137.000000</td>\n",
       "      <td>140.000000</td>\n",
       "      <td>154.000000</td>\n",
       "      <td>102.000000</td>\n",
       "      <td>137.000000</td>\n",
       "      <td>145.000000</td>\n",
       "      <td>157.000000</td>\n",
       "      <td>104.000000</td>\n",
       "      <td>130.000000</td>\n",
       "      <td>...</td>\n",
       "      <td>154.000000</td>\n",
       "      <td>104.000000</td>\n",
       "      <td>128.000000</td>\n",
       "      <td>145.000000</td>\n",
       "      <td>157.000000</td>\n",
       "      <td>104.000000</td>\n",
       "      <td>130.000000</td>\n",
       "      <td>145.000000</td>\n",
       "      <td>157.000000</td>\n",
       "      <td>7.000000</td>\n",
       "    </tr>\n",
       "  </tbody>\n",
       "</table>\n",
       "<p>8 rows × 37 columns</p>\n",
       "</div>"
      ],
      "text/plain": [
       "         pixel_1_1    pixel_1_2    pixel_1_3    pixel_1_4    pixel_2_1  \\\n",
       "count  4435.000000  4435.000000  4435.000000  4435.000000  4435.000000   \n",
       "mean     69.473957    83.855242    99.322886    82.555581    69.208794   \n",
       "std      13.649635    22.725079    16.672166    18.695450    13.552423   \n",
       "min      40.000000    27.000000    56.000000    33.000000    40.000000   \n",
       "25%      60.000000    71.000000    85.000000    70.000000    60.000000   \n",
       "50%      68.000000    87.000000   101.000000    83.000000    68.000000   \n",
       "75%      80.000000   103.000000   113.000000    92.000000    80.000000   \n",
       "max     104.000000   137.000000   140.000000   154.000000   102.000000   \n",
       "\n",
       "         pixel_2_2    pixel_2_3    pixel_2_4    pixel_3_1    pixel_3_2  \\\n",
       "count  4435.000000  4435.000000  4435.000000  4435.000000  4435.000000   \n",
       "mean     83.499436    99.174521    82.480496    68.963472    83.131003   \n",
       "std      22.811809    16.627583    18.714272    13.497858    22.813312   \n",
       "min      27.000000    50.000000    29.000000    40.000000    27.000000   \n",
       "25%      71.000000    85.000000    69.000000    60.000000    71.000000   \n",
       "50%      85.000000   101.000000    81.000000    67.000000    85.000000   \n",
       "75%     103.000000   113.000000    92.000000    79.000000   103.000000   \n",
       "max     137.000000   145.000000   157.000000   104.000000   130.000000   \n",
       "\n",
       "          ...         pixel_7_4    pixel_8_1    pixel_8_2    pixel_8_3  \\\n",
       "count     ...       4435.000000  4435.000000  4435.000000  4435.000000   \n",
       "mean      ...         82.673957    69.033145    83.434273    99.183766   \n",
       "std       ...         18.884322    13.533934    22.812090    16.741240   \n",
       "min       ...         34.000000    39.000000    27.000000    50.000000   \n",
       "25%       ...         70.000000    60.000000    71.000000    85.000000   \n",
       "50%       ...         81.000000    68.000000    85.000000   101.000000   \n",
       "75%       ...         92.000000    79.500000   103.000000   113.000000   \n",
       "max       ...        154.000000   104.000000   128.000000   145.000000   \n",
       "\n",
       "         pixel_8_4    pixel_9_1    pixel_9_2    pixel_9_3    pixel_9_4  \\\n",
       "count  4435.000000  4435.000000  4435.000000  4435.000000  4435.000000   \n",
       "mean     82.638106    68.797069    83.153326    99.061556    82.584442   \n",
       "std      18.939820    13.437785    22.762684    16.660735    18.895513   \n",
       "min      29.000000    40.000000    27.000000    50.000000    29.000000   \n",
       "25%      69.000000    60.000000    71.000000    85.000000    69.000000   \n",
       "50%      81.000000    67.000000    85.000000   100.000000    81.000000   \n",
       "75%      92.000000    79.000000   103.000000   113.000000    92.000000   \n",
       "max     157.000000   104.000000   130.000000   145.000000   157.000000   \n",
       "\n",
       "             label  \n",
       "count  4435.000000  \n",
       "mean      3.650282  \n",
       "std       2.217055  \n",
       "min       1.000000  \n",
       "25%       2.000000  \n",
       "50%       3.000000  \n",
       "75%       5.000000  \n",
       "max       7.000000  \n",
       "\n",
       "[8 rows x 37 columns]"
      ]
     },
     "execution_count": 16,
     "metadata": {},
     "output_type": "execute_result"
    }
   ],
   "source": [
    "# Summary statistics in train set\n",
    "landsat_train.describe()"
   ]
  },
  {
   "cell_type": "markdown",
   "metadata": {},
   "source": [
    "You can also show the summaries for only a single column (attribute):"
   ]
  },
  {
   "cell_type": "code",
   "execution_count": 17,
   "metadata": {},
   "outputs": [
    {
     "data": {
      "text/plain": [
       "count    4435.000000\n",
       "mean       83.855242\n",
       "std        22.725079\n",
       "min        27.000000\n",
       "25%        71.000000\n",
       "50%        87.000000\n",
       "75%       103.000000\n",
       "max       137.000000\n",
       "Name: pixel_1_2, dtype: float64"
      ]
     },
     "execution_count": 17,
     "metadata": {},
     "output_type": "execute_result"
    }
   ],
   "source": [
    "# summaries for the pixel_1_2 column\n",
    "landsat_train['pixel_1_2'].describe()"
   ]
  },
  {
   "cell_type": "markdown",
   "metadata": {},
   "source": [
    "## Accessing data\n",
    "As explained above, we may consider the DataFrame object to be an enhanced two-dimensional `NumPy` nd-array. We can access the raw nd-array using the [`to_numpy` method](https://pandas.pydata.org/pandas-docs/stable/reference/api/pandas.DataFrame.to_numpy.html#pandas.DataFrame.to_numpy). Note that the related `values` attribute is [depreciated](https://pandas.pydata.org/pandas-docs/stable/reference/api/pandas.DataFrame.values.html)."
   ]
  },
  {
   "cell_type": "code",
   "execution_count": 18,
   "metadata": {},
   "outputs": [
    {
     "name": "stdout",
     "output_type": "stream",
     "text": [
      "<class 'numpy.ndarray'>\n"
     ]
    }
   ],
   "source": [
    "Xy_train = np.array(landsat_train)  # Xy_train contains both \"features\" X and labels y\n",
    "print(type(Xy_train))"
   ]
  },
  {
   "cell_type": "markdown",
   "metadata": {},
   "source": [
    "By default, the variables `Xy_train` and `landsat_train` are different labels/names for the same underlying data. In other words, a view of the data is returned and any modifications will affect the original. If you need a copy, use the `copy=True` option instead."
   ]
  },
  {
   "cell_type": "markdown",
   "metadata": {},
   "source": [
    "Given the connection to nd-arrays, we can use `numpy` or `scipy` functions to perform any sort of transformations or compute additional statistics. We next compute the [skewness](https://en.wikipedia.org/wiki/Skewness) and [kurtosis](https://en.wikipedia.org/wiki/Skewness) by using functions imported from [`scipy.stats`](https://docs.scipy.org/doc/scipy/reference/stats.html)."
   ]
  },
  {
   "cell_type": "code",
   "execution_count": 19,
   "metadata": {},
   "outputs": [],
   "source": [
    "from scipy.stats import skew, kurtosis"
   ]
  },
  {
   "cell_type": "code",
   "execution_count": 20,
   "metadata": {},
   "outputs": [],
   "source": [
    "# extract the features\n",
    "X_train = Xy_train[:,:-1] # the labels are in the last column\n",
    "# compute the statistics\n",
    "landsat_skew = skew(X_train)\n",
    "landsat_kurt = kurtosis(X_train)"
   ]
  },
  {
   "cell_type": "code",
   "execution_count": 21,
   "metadata": {},
   "outputs": [
    {
     "name": "stdout",
     "output_type": "stream",
     "text": [
      "Skewness:\n",
      "[ 0.03897976 -0.66114747 -0.11532597  0.88180938  0.05867339 -0.64255423\n",
      " -0.11676827  0.89154795  0.06286078 -0.64115429 -0.10967779  0.91558233\n",
      "  0.03864269 -0.6650612  -0.12403743  0.87217058  0.03516946 -0.65737898\n",
      " -0.11111385  0.90241981  0.056391   -0.64982478 -0.10552114  0.90049647\n",
      "  0.03864561 -0.67319444 -0.12702005  0.88087324  0.04238649 -0.66352782\n",
      " -0.13171674  0.88438801  0.05262999 -0.66424573 -0.12624233  0.88873574]\n",
      "\n",
      "Kurtosis:\n",
      "[-0.73962977 -0.21807077 -0.89152972  1.30588852 -0.72693453 -0.27374012\n",
      " -0.91441639  1.28448304 -0.72192199 -0.29861851 -0.91068177  1.34217389\n",
      " -0.74918916 -0.20644875 -0.91032411  1.1945522  -0.73138799 -0.2564044\n",
      " -0.93930816  1.26275161 -0.70827217 -0.2865319  -0.92976268  1.26566877\n",
      " -0.71984675 -0.17613722 -0.90109915  1.21253805 -0.72119253 -0.22213609\n",
      " -0.91358958  1.2209361  -0.70923185 -0.24331318 -0.91402879  1.27599748]\n"
     ]
    }
   ],
   "source": [
    "# Note: there are in total 3*3*4=36 statistics, one for each attribute\n",
    "print('Skewness:\\n{}'.format(landsat_skew), end='\\n\\n')\n",
    "print('Kurtosis:\\n{}'.format(landsat_kurt)) "
   ]
  },
  {
   "cell_type": "markdown",
   "metadata": {},
   "source": [
    "## Class labels\n",
    "The class label names are stored in a separate file.  Let's load them in another DataFrame  called `landsat_labels` and inspect."
   ]
  },
  {
   "cell_type": "code",
   "execution_count": 22,
   "metadata": {},
   "outputs": [
    {
     "data": {
      "text/html": [
       "<div>\n",
       "<style scoped>\n",
       "    .dataframe tbody tr th:only-of-type {\n",
       "        vertical-align: middle;\n",
       "    }\n",
       "\n",
       "    .dataframe tbody tr th {\n",
       "        vertical-align: top;\n",
       "    }\n",
       "\n",
       "    .dataframe thead th {\n",
       "        text-align: right;\n",
       "    }\n",
       "</style>\n",
       "<table border=\"1\" class=\"dataframe\">\n",
       "  <thead>\n",
       "    <tr style=\"text-align: right;\">\n",
       "      <th></th>\n",
       "      <th>Class</th>\n",
       "    </tr>\n",
       "  </thead>\n",
       "  <tbody>\n",
       "    <tr>\n",
       "      <th>1</th>\n",
       "      <td>red soil</td>\n",
       "    </tr>\n",
       "    <tr>\n",
       "      <th>2</th>\n",
       "      <td>cotton crop</td>\n",
       "    </tr>\n",
       "    <tr>\n",
       "      <th>3</th>\n",
       "      <td>grey soil</td>\n",
       "    </tr>\n",
       "    <tr>\n",
       "      <th>4</th>\n",
       "      <td>damp grey soil</td>\n",
       "    </tr>\n",
       "    <tr>\n",
       "      <th>5</th>\n",
       "      <td>soil with vegetation stubble</td>\n",
       "    </tr>\n",
       "    <tr>\n",
       "      <th>6</th>\n",
       "      <td>mixture class (all types present)</td>\n",
       "    </tr>\n",
       "    <tr>\n",
       "      <th>7</th>\n",
       "      <td>very damp grey soil</td>\n",
       "    </tr>\n",
       "  </tbody>\n",
       "</table>\n",
       "</div>"
      ],
      "text/plain": [
       "                               Class\n",
       "1                           red soil\n",
       "2                        cotton crop\n",
       "3                          grey soil\n",
       "4                     damp grey soil\n",
       "5       soil with vegetation stubble\n",
       "6  mixture class (all types present)\n",
       "7                very damp grey soil"
      ]
     },
     "execution_count": 22,
     "metadata": {},
     "output_type": "execute_result"
    }
   ],
   "source": [
    "# Read classes and display\n",
    "labels_path = os.path.join(os.getcwd(), 'datasets', 'landsat', 'landsat_classes.csv')\n",
    "landsat_labels = pd.read_csv(labels_path, delimiter = ',', index_col=0)\n",
    "landsat_labels"
   ]
  },
  {
   "cell_type": "markdown",
   "metadata": {},
   "source": [
    "`Pandas` provides the  [`to_dict()`](http://pandas.pydata.org/pandas-docs/stable/generated/pandas.DataFrame.to_dict.html) method which can be used to transform  a DataFrame into a python dictionary. It will normally return a dictionary of dictionaries, one for each column in the DataFrame. Since we only have one column  in `landsat_labels`, we can use its name to access it and end up with a single dictionary."
   ]
  },
  {
   "cell_type": "code",
   "execution_count": 23,
   "metadata": {},
   "outputs": [
    {
     "data": {
      "text/plain": [
       "{1: 'red soil',\n",
       " 2: 'cotton crop',\n",
       " 3: 'grey soil',\n",
       " 4: 'damp grey soil',\n",
       " 5: 'soil with vegetation stubble',\n",
       " 6: 'mixture class (all types present)',\n",
       " 7: 'very damp grey soil'}"
      ]
     },
     "execution_count": 23,
     "metadata": {},
     "output_type": "execute_result"
    }
   ],
   "source": [
    "# Turn the labels dataframe into a dictionary\n",
    "# We only have one column in the DataFrame\n",
    "landsat_labels_dict = landsat_labels.to_dict()[\"Class\"]\n",
    "landsat_labels_dict"
   ]
  },
  {
   "cell_type": "markdown",
   "metadata": {},
   "source": [
    "As mentioned above, the dataset does not actually contain all seven labels. In order to find the unique labels in a dataset, we can do the following."
   ]
  },
  {
   "cell_type": "code",
   "execution_count": 24,
   "metadata": {},
   "outputs": [
    {
     "data": {
      "text/plain": [
       "array([1, 2, 3, 4, 5, 7])"
      ]
     },
     "execution_count": 24,
     "metadata": {},
     "output_type": "execute_result"
    }
   ],
   "source": [
    "labels = np.sort(landsat_train.label.unique()) # sort from lowest to highest\n",
    "labels"
   ]
  },
  {
   "cell_type": "markdown",
   "metadata": {},
   "source": [
    "# Seaborn"
   ]
  },
  {
   "cell_type": "markdown",
   "metadata": {},
   "source": [
    "[Seaborn](https://seaborn.github.io/index.html) is a visualisation library built on top of matplotlib which offers some aesthetic enhancement and, more importantly, provides some high-level functions for quickly \"exploring and understanding data\". Seaborn is also tightly integrated with pandas and provides support for both numpy and pandas data structures.\n"
   ]
  },
  {
   "cell_type": "markdown",
   "metadata": {},
   "source": [
    "## Visualising distributions\n",
    "As a first visualising step, we want to get a feel for the distribution of the various features in the dataset. \n",
    "\n",
    "For this purpose, we can use the `seaborn` [`distplot()`](http://seaborn.pydata.org/generated/seaborn.distplot.html) function which combines a histogram with a kernel density estimate plot. Make sure  you read the [documentation](http://seaborn.pydata.org/generated/seaborn.distplot.html) of this function  to understand how it can be used. \n",
    "\n",
    "**Note:** with version 0.11.0 of seaborn released in September 2020, this function has become deprecated and it is recommended to use the new `displot` or `histplot` functions in the future instead. We here still use `distplot` to avoid hassles with (uni) software environments that have not been updated. If you are using the latest seaborn version, you may get a warning that you can ignore.\n",
    "\n",
    "We have a total of 36 features (9 pixels  $\\times$ 4 spectral bands). Let us first produce a plot for the first pixel in the first band. "
   ]
  },
  {
   "cell_type": "code",
   "execution_count": 25,
   "metadata": {},
   "outputs": [
    {
     "name": "stderr",
     "output_type": "stream",
     "text": [
      "/Users/wushaokang/anaconda3/lib/python3.7/site-packages/scipy/stats/stats.py:1713: FutureWarning: Using a non-tuple sequence for multidimensional indexing is deprecated; use `arr[tuple(seq)]` instead of `arr[seq]`. In the future this will be interpreted as an array index, `arr[np.array(seq)]`, which will result either in an error or a different result.\n",
      "  return np.add.reduce(sorted[indexer] * weights, axis=axis) / sumval\n"
     ]
    },
    {
     "data": {
      "image/png": "[encoded data removed]",
      "text/plain": [
       "<Figure size 432x288 with 1 Axes>"
      ]
     },
     "metadata": {
      "needs_background": "light"
     },
     "output_type": "display_data"
    }
   ],
   "source": [
    "fig, ax = plt.subplots()\n",
    "sns.distplot(landsat_train['pixel_1_1'], ax=ax);"
   ]
  },
  {
   "cell_type": "markdown",
   "metadata": {},
   "source": [
    "Let us now visualise all pixels in all bands."
   ]
  },
  {
   "cell_type": "code",
   "execution_count": 26,
   "metadata": {},
   "outputs": [
    {
     "name": "stderr",
     "output_type": "stream",
     "text": [
      "/Users/wushaokang/anaconda3/lib/python3.7/site-packages/scipy/stats/stats.py:1713: FutureWarning: Using a non-tuple sequence for multidimensional indexing is deprecated; use `arr[tuple(seq)]` instead of `arr[seq]`. In the future this will be interpreted as an array index, `arr[np.array(seq)]`, which will result either in an error or a different result.\n",
      "  return np.add.reduce(sorted[indexer] * weights, axis=axis) / sumval\n"
     ]
    },
    {
     "data": {
      "image/png": "[encoded data removed]",
      "text/plain": [
       "<Figure size 576x576 with 36 Axes>"
      ]
     },
     "metadata": {
      "needs_background": "light"
     },
     "output_type": "display_data"
    }
   ],
   "source": [
    "# Make figure with 9 rows and 4 columns\n",
    "# all axes in the same row share their y-axis scale, and all axes in the same column share their x-axis scale\n",
    "fig, ax = plt.subplots(9,4, figsize=(8,8), sharex='col', sharey='row');\n",
    "\n",
    "# make the plot\n",
    "pixels = np.arange(1,10) # Pixel values (1-9)\n",
    "bands = np.arange(1,5) # Spectral band values (1-4)\n",
    "for ii, pixel in enumerate(pixels):\n",
    "    for jj, band in enumerate(bands):\n",
    "        variable_name = 'pixel_' + str(pixel) + '_' + str(band) # Get the variable name of interest\n",
    "        sns.distplot(landsat_train[variable_name], ax=ax[ii][jj]) # Use a single feature at a time\n",
    "        ax[ii][jj].xaxis.label.set_visible(False) # don't show the x-axis labels\n",
    "        \n",
    "# use a list comprehension to set the band titles for top plots         \n",
    "[ax[0][ii].set_title(\"Band {}\".format(band)) for ii, band in enumerate(bands)]\n",
    "\n",
    "# same for the titles in the left-most plots\n",
    "[ax[ii][0].set_ylabel(\"Pixel {}\".format(pixel)) for ii, pixel in enumerate(pixels)] # \n",
    "fig.tight_layout()"
   ]
  },
  {
   "cell_type": "markdown",
   "metadata": {},
   "source": [
    "It seems like the distributions of the pixel values (intensities) are similar within the same spectral band. This is expected since the data are small $3 \\times 3$ image patches that were extracted from multiple locations within a larger image. This makes the data translation invariant, and the exact pixel location does not matter."
   ]
  },
  {
   "cell_type": "markdown",
   "metadata": {},
   "source": [
    "## Question 3\n",
    "Given the observation made above, we now want to visualise the pixel intensity distributions by pooling/stacking all pixels while still keeping the spectral bands separate. Statistically, this means we consider the observations of the different pixels in a given band to be observations from the _same_ random variable.\n",
    "\n",
    "Modify the code above to produce a figure with 4 subplots (one for each spectral band), and within each subplot show the distribution and kernel density estimate for the pooled pixel intensity values. For each `distplot` set the number of bins equal to 25.\n",
    "\n",
    "*Hint: for pooling/stacking the pixel values, you might find  the [`reshape()`](https://docs.scipy.org/doc/numpy/reference/generated/numpy.reshape.html) numpy function useful.*"
   ]
  },
  {
   "cell_type": "code",
   "execution_count": 27,
   "metadata": {},
   "outputs": [
    {
     "ename": "AttributeError",
     "evalue": "'DataFrame' object has no attribute 'to_numpy'",
     "output_type": "error",
     "traceback": [
      "\u001b[0;31m---------------------------------------------------------------------------\u001b[0m",
      "\u001b[0;31mAttributeError\u001b[0m                            Traceback (most recent call last)",
      "\u001b[0;32m<ipython-input-27-efeb4be4c017>\u001b[0m in \u001b[0;36m<module>\u001b[0;34m()\u001b[0m\n\u001b[1;32m     11\u001b[0m     \u001b[0mdf_sel\u001b[0m \u001b[0;34m=\u001b[0m \u001b[0mlandsat_train\u001b[0m\u001b[0;34m[\u001b[0m\u001b[0mvariable_names\u001b[0m\u001b[0;34m]\u001b[0m\u001b[0;34m\u001b[0m\u001b[0;34m\u001b[0m\u001b[0m\n\u001b[1;32m     12\u001b[0m     \u001b[0;31m# Convert to an np array and stack all pixel values\u001b[0m\u001b[0;34m\u001b[0m\u001b[0;34m\u001b[0m\u001b[0;34m\u001b[0m\u001b[0m\n\u001b[0;32m---> 13\u001b[0;31m     \u001b[0mpooled_data\u001b[0m\u001b[0;34m.\u001b[0m\u001b[0mappend\u001b[0m\u001b[0;34m(\u001b[0m\u001b[0mdf_sel\u001b[0m\u001b[0;34m.\u001b[0m\u001b[0mto_numpy\u001b[0m\u001b[0;34m(\u001b[0m\u001b[0;34m)\u001b[0m\u001b[0;34m.\u001b[0m\u001b[0mreshape\u001b[0m\u001b[0;34m(\u001b[0m\u001b[0;34m-\u001b[0m\u001b[0;36m1\u001b[0m\u001b[0;34m,\u001b[0m\u001b[0;34m)\u001b[0m\u001b[0;34m)\u001b[0m  \u001b[0;31m# unspecified dim \"-1\" is inferred\u001b[0m\u001b[0;34m\u001b[0m\u001b[0;34m\u001b[0m\u001b[0m\n\u001b[0m\u001b[1;32m     14\u001b[0m \u001b[0;34m\u001b[0m\u001b[0m\n\u001b[1;32m     15\u001b[0m \u001b[0;31m# sanity check that the pooling/stacking worked as intendend\u001b[0m\u001b[0;34m\u001b[0m\u001b[0;34m\u001b[0m\u001b[0;34m\u001b[0m\u001b[0m\n",
      "\u001b[0;32m~/anaconda3/lib/python3.7/site-packages/pandas/core/generic.py\u001b[0m in \u001b[0;36m__getattr__\u001b[0;34m(self, name)\u001b[0m\n\u001b[1;32m   4374\u001b[0m             \u001b[0;32mif\u001b[0m \u001b[0mself\u001b[0m\u001b[0;34m.\u001b[0m\u001b[0m_info_axis\u001b[0m\u001b[0;34m.\u001b[0m\u001b[0m_can_hold_identifiers_and_holds_name\u001b[0m\u001b[0;34m(\u001b[0m\u001b[0mname\u001b[0m\u001b[0;34m)\u001b[0m\u001b[0;34m:\u001b[0m\u001b[0;34m\u001b[0m\u001b[0;34m\u001b[0m\u001b[0m\n\u001b[1;32m   4375\u001b[0m                 \u001b[0;32mreturn\u001b[0m \u001b[0mself\u001b[0m\u001b[0;34m[\u001b[0m\u001b[0mname\u001b[0m\u001b[0;34m]\u001b[0m\u001b[0;34m\u001b[0m\u001b[0;34m\u001b[0m\u001b[0m\n\u001b[0;32m-> 4376\u001b[0;31m             \u001b[0;32mreturn\u001b[0m \u001b[0mobject\u001b[0m\u001b[0;34m.\u001b[0m\u001b[0m__getattribute__\u001b[0m\u001b[0;34m(\u001b[0m\u001b[0mself\u001b[0m\u001b[0;34m,\u001b[0m \u001b[0mname\u001b[0m\u001b[0;34m)\u001b[0m\u001b[0;34m\u001b[0m\u001b[0;34m\u001b[0m\u001b[0m\n\u001b[0m\u001b[1;32m   4377\u001b[0m \u001b[0;34m\u001b[0m\u001b[0m\n\u001b[1;32m   4378\u001b[0m     \u001b[0;32mdef\u001b[0m \u001b[0m__setattr__\u001b[0m\u001b[0;34m(\u001b[0m\u001b[0mself\u001b[0m\u001b[0;34m,\u001b[0m \u001b[0mname\u001b[0m\u001b[0;34m,\u001b[0m \u001b[0mvalue\u001b[0m\u001b[0;34m)\u001b[0m\u001b[0;34m:\u001b[0m\u001b[0;34m\u001b[0m\u001b[0;34m\u001b[0m\u001b[0m\n",
      "\u001b[0;31mAttributeError\u001b[0m: 'DataFrame' object has no attribute 'to_numpy'"
     ]
    }
   ],
   "source": [
    "# Your code goes here\n",
    "\n",
    "# extract the columns from the panda object, and then transforming them to a nd array\n",
    "# we could also first transform the panda object into a nd-array, and then extract the columns but, while not hard,\n",
    "# this is more error prone since we need to get the indexing right.\n",
    "pooled_data = []\n",
    "for ii, band in enumerate(bands):\n",
    "    # List with all pixels for the specified band\n",
    "    variable_names = ['pixel_' + str(pixel) + '_' + str(band) for pixel in pixels]\n",
    "    # DataFrame with selected columns\n",
    "    df_sel = landsat_train[variable_names]\n",
    "    # Convert to an np array and stack all pixel values\n",
    "    pooled_data.append(df_sel.to_numpy().reshape(-1,))  # unspecified dim \"-1\" is inferred\n",
    "    \n",
    "# sanity check that the pooling/stacking worked as intendend\n",
    "print(len(pooled_data[0])==9*landsat_train.to_numpy().shape[0])\n",
    "\n",
    "# plot\n",
    "fig, ax = plt.subplots(1,4, figsize=(15,3))\n",
    "for ii, band in enumerate(bands):\n",
    "    sns.distplot(pooled_data[ii], ax=ax[ii], bins=25)\n",
    "    ax[ii].set_title('Band {}'.format(band)) # Subplot titles\n",
    "ax[0].set_ylabel('Density, pooled pixels') # ylabel for left-most subplot\n",
    "fig.tight_layout()"
   ]
  },
  {
   "cell_type": "markdown",
   "metadata": {},
   "source": [
    "## Considering the class labels\n",
    "Now, suppose we want to visualise the pooled pixel distributions separately for every spectral band, as well as for every class in the dataset. We can do this by filtering the data according to their corresponding label, one class at a time. This gives us some clues about the separability of the different classes.\n",
    "\n",
    "You are provided with sample code to achieve this. It is similar to the code above but once again, make sure you understand what every line of code does."
   ]
  },
  {
   "cell_type": "code",
   "execution_count": null,
   "metadata": {},
   "outputs": [],
   "source": [
    "# the figure and the 4 axes\n",
    "fig, ax = plt.subplots(1,4, figsize=(17,5))\n",
    "\n",
    "for ii, band in enumerate(bands):\n",
    "    \n",
    "    for label in labels:\n",
    "        # List with all pixels for the specified band\n",
    "        variable_names = ['pixel_' + str(pixel) + '_' + str(band) for pixel in pixels]\n",
    "        \n",
    "        # DataFrame with selected columns, note the way we select the rows with a given label\n",
    "        mask = landsat_train[\"label\"]==label \n",
    "        df_sel = landsat_train.loc[mask, variable_names]\n",
    "             \n",
    "        # Convert to an np array and stack all pixel values\n",
    "        plot_data = df_sel.to_numpy().reshape(-1, )\n",
    "        \n",
    "        # plot\n",
    "        sns.kdeplot(plot_data, ax=ax[ii], label=landsat_labels_dict[label])\n",
    "        \n",
    "    ax[ii].set_xlabel('pixel intensities, band {}'.format(band))\n",
    "\n",
    "# ylabel for left-most subplot\n",
    "ax[0].set_ylabel('density') \n",
    "\n",
    "# Put the legend of the first subfigure outside the plot\n",
    "ax[0].legend(ncol=6, bbox_to_anchor=(0.5, 0.93), bbox_transform=fig.transFigure, loc='center', frameon=False)\n",
    "\n",
    "# Remove all legends except the first one\n",
    "[ax[ii].legend().remove() for ii in np.arange(1,4)];\n",
    "# alternative: \n",
    "# [ax[ii].legend().set_visible(False) for ii in np.arange(1,4)];"
   ]
  },
  {
   "cell_type": "markdown",
   "metadata": {},
   "source": [
    "For an explanation of the placement of the legend, see e.g. [here](https://stackoverflow.com/questions/39803385/what-does-a-4-element-tuple-argument-for-bbox-to-anchor-mean-in-matplotlib/39806180#39806180). In brief, `bbox_to_anchor=(0.5, 0.93)` with ` bbox_transform=fig.transFigure` puts the anchor point of the legend in _figure_ coordinates at $(0.5, 0.93)$, i.e. in the middle of the figure close to the upper boundary. The `loc='center` places the legend centred around the anchor point, i.e. the anchor point is in the centre of the legend.\n",
    "\n",
    "It looks like the different classes can be discriminated by looking at the distribution of the pooled pixel intensities. This is good news, as it means that already relatively simple classifiers would hopefully be able to predict the right labels from pixel intensity values. "
   ]
  },
  {
   "cell_type": "markdown",
   "metadata": {},
   "source": [
    "## Question 4\n",
    "\n",
    "By observing the above kernel density estimate plots, which classes do you think are easy/difficult to separate when using pixel intensity values only?"
   ]
  },
  {
   "cell_type": "markdown",
   "metadata": {},
   "source": [
    "*Your answer goes here*\n",
    "\n",
    "Examples of classes which are easy to separate:\n",
    "* Cotton crop vs. grey soil\n",
    "* Soil with vegetation stubble vs. grey soil\n",
    "* Cotton crop vs. damp grey soil\n",
    "\n",
    "Examples of classes which are hard to separate:\n",
    "* Damp grey soil vs. grey soil\n",
    "* Red soil vs. soil with vegetation stubble\n",
    "* Red soil vs. grey soil"
   ]
  },
  {
   "cell_type": "markdown",
   "metadata": {},
   "source": [
    "## Correlations"
   ]
  },
  {
   "cell_type": "markdown",
   "metadata": {},
   "source": [
    "So far, we have focused on the marginal distributions of the features, ignoring possible dependencies between them. Now, we want to get a feel for the correlations between different features. `Seaborn ` offers the `pairplot()` function, which is an excellent tool for visualising pair-wise relationships between variables.  \n",
    "\n",
    "The following example  shows the  pairwise relationship between the features `pixel_1_1` and `pixel_1_2`. Refer to the [`pairplot`](http://seaborn.pydata.org/generated/seaborn.pairplot.html) documentation  to understand how this function can be used.  Feel free to experiment with other pairs of variables."
   ]
  },
  {
   "cell_type": "code",
   "execution_count": null,
   "metadata": {},
   "outputs": [],
   "source": [
    "sns.pairplot(landsat_train, vars = [\"pixel_1_1\", \"pixel_1_2\"], \\\n",
    "             plot_kws={'s' : 6}, diag_kws={'bins' : 25}); # Set variables of interest, marker size and bins for histograms"
   ]
  },
  {
   "cell_type": "markdown",
   "metadata": {},
   "source": [
    "The above plot shows the pair-wise relationship between only two variables. Our feature space is 36-dimensional, so if we wanted to repeat the same procedure for each possible pair of variables  we would end up with a 36 $\\times$ 36 figure which would  not be very meaningful (also it would be fairly computationally expensive to produce). \n",
    "\n",
    "Instead, we can pool pixels together again, similar to what we did in the previous part, but this time we compute the average pixel value per neighbourhood and spectral band. This time, instead of treating each pixel in the same way and combining all pixel values, we can compute the average pixel value in each spectral band.\n",
    "\n",
    "The following bit of code does that and saves the result in a new column of the dataframe."
   ]
  },
  {
   "cell_type": "code",
   "execution_count": null,
   "metadata": {},
   "outputs": [],
   "source": [
    "for band in bands:\n",
    "    variable_names = ['pixel_' + str(pixel) + '_' + str(band) for pixel in pixels]\n",
    "    landsat_train['avg_' + str(band)] = landsat_train[variable_names].mean(axis=1)\n",
    "landsat_train.head(5) # Show the first 5 observations in the updated dataframe"
   ]
  },
  {
   "cell_type": "markdown",
   "metadata": {},
   "source": [
    "##  Question 5\n",
    "By using the  `seaborn` `pairplot()` function, show the pairwise correlations between the average pixel values in each spectral band for the training set `landsat_train`. \n",
    "\n",
    "*Hint: pick the right columns by using the `vars` argument of the function.*\n",
    "\n",
    "Which spectral band pairs exhibit the strongest correlations?  Are these correlations expected?"
   ]
  },
  {
   "cell_type": "code",
   "execution_count": null,
   "metadata": {},
   "outputs": [],
   "source": [
    "# Your code goes here\n",
    "g = sns.pairplot(landsat_train, vars=['avg_' + str(band) for band in bands], \\\n",
    "                 plot_kws={'s' : 6}, diag_kws={'bins' : 25}) # Set marker size and number of bins for histograms"
   ]
  },
  {
   "cell_type": "markdown",
   "metadata": {},
   "source": [
    "*Your answer goes here*\n",
    "\n",
    "The strongest correlations appear in pairs (1,2) and (3,4). This is somewhat expected, since  bands 1 and 2 correspond to  the visible region, whereas bands 3 and 4 correspond to the near-infrared region."
   ]
  },
  {
   "cell_type": "markdown",
   "metadata": {},
   "source": [
    "## Question 6\n",
    "The `pairplot` function can also  be used to visualise pair-wise relationships between variables, conditioned on the label, that is, separately for each class.\n",
    "\n",
    "Modify your code from the previous question to visualise pair-wise relationships between spectral bands, separately for each class. For the diagonal plots, show kernel density estimates instead of histograms  which are shown by default. Do not worry about changing the legend entries or the placement of the legend.\n",
    "\n",
    "*Hint: make appropriate use of the `hue` and `diag_kind` parameters of the [`pairplot`](http://seaborn.pydata.org/generated/seaborn.pairplot.html) function.*"
   ]
  },
  {
   "cell_type": "code",
   "execution_count": null,
   "metadata": {
    "scrolled": false
   },
   "outputs": [],
   "source": [
    "#Your code goes here\n",
    "g = sns.pairplot(landsat_train, vars=['avg_' + str(band) for band in bands], \\\n",
    "                 hue='label', diag_kind = 'kde', plot_kws={'s' : 6})\n",
    "\n",
    "# optional: to control the placement of the legend\n",
    "handles = g._legend_data.values()\n",
    "labels = g._legend_data.keys()\n",
    "g._legend.set_visible(False) # don't show the default legend\n",
    "\n",
    "# add legend to the figure\n",
    "g.fig.legend(handles=handles, labels=labels, title='Class labels',\\\n",
    "             loc='upper center', ncol=len(labels), frameon=False)\n",
    "\n",
    "# squeeze the top and bottom of the subplots\n",
    "g.fig.subplots_adjust(top=0.92, bottom=0.08)"
   ]
  },
  {
   "cell_type": "markdown",
   "metadata": {},
   "source": [
    "From the figure that you obtain, you can see that feature interactions (correlations) exhibit patterns  which are characteristic for the different classes. Thus, we would expect that making use of such information would improve classification performance. This would mean, for instance, that a [Quadratic Discriminant Analysis (QDA)](https://en.wikipedia.org/wiki/Quadratic_classifier) classifier should perform better than a [Gaussian Naive Bayes (GNB)](https://en.wikipedia.org/wiki/Naive_Bayes_classifier#Gaussian_naive_Bayes) because QDA is sensitive to such correlations while GNB is not, since the GNB classifier assumes conditional independence of the features given the labels."
   ]
  }
 ],
 "metadata": {
  "anaconda-cloud": {},
  "kernelspec": {
   "display_name": "Python 3",
   "language": "python",
   "name": "python3"
  },
  "language_info": {
   "codemirror_mode": {
    "name": "ipython",
    "version": 3
   },
   "file_extension": ".py",
   "mimetype": "text/x-python",
   "name": "python",
   "nbconvert_exporter": "python",
   "pygments_lexer": "ipython3",
   "version": "3.7.2"
  },
  "toc": {
   "base_numbering": 1,
   "nav_menu": {},
   "number_sections": true,
   "sideBar": true,
   "skip_h1_title": false,
   "title_cell": "Table of Contents",
   "title_sidebar": "Contents",
   "toc_cell": false,
   "toc_position": {
    "height": "calc(100% - 180px)",
    "left": "10px",
    "top": "150px",
    "width": "281.995px"
   },
   "toc_section_display": true,
   "toc_window_display": true
  }
 },
 "nbformat": 4,
 "nbformat_minor": 2
}
